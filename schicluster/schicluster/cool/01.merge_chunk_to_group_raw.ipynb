{
 "cells": [
  {
   "cell_type": "code",
   "execution_count": 1,
   "id": "c2b38e72-cbd7-459c-baeb-630eb16888a0",
   "metadata": {
    "execution": {
     "iopub.execute_input": "2023-06-27T07:44:24.681128Z",
     "iopub.status.busy": "2023-06-27T07:44:24.680730Z",
     "iopub.status.idle": "2023-06-27T07:44:24.685364Z",
     "shell.execute_reply": "2023-06-27T07:44:24.684657Z",
     "shell.execute_reply.started": "2023-06-27T07:44:24.681099Z"
    },
    "tags": []
   },
   "outputs": [],
   "source": [
    "import os\n",
    "from glob import glob"
   ]
  },
  {
   "cell_type": "code",
   "execution_count": 2,
   "id": "268b9f3b-91b4-4dda-a0a9-17054265eb16",
   "metadata": {
    "execution": {
     "iopub.execute_input": "2023-06-27T07:44:25.455077Z",
     "iopub.status.busy": "2023-06-27T07:44:25.454430Z",
     "iopub.status.idle": "2023-06-27T07:44:25.458733Z",
     "shell.execute_reply": "2023-06-27T07:44:25.458088Z",
     "shell.execute_reply.started": "2023-06-27T07:44:25.455040Z"
    },
    "tags": [
     "parameters"
    ]
   },
   "outputs": [],
   "source": [
    "group_name = 'Cajal-Retzius Cell'\n"
   ]
  },
  {
   "cell_type": "code",
   "execution_count": 3,
   "id": "e82a9052-907d-4767-b53f-ba54746afcf2",
   "metadata": {
    "execution": {
     "iopub.execute_input": "2023-06-27T07:44:26.095627Z",
     "iopub.status.busy": "2023-06-27T07:44:26.095091Z",
     "iopub.status.idle": "2023-06-27T07:44:26.100247Z",
     "shell.execute_reply": "2023-06-27T07:44:26.099577Z",
     "shell.execute_reply.started": "2023-06-27T07:44:26.095603Z"
    },
    "tags": []
   },
   "outputs": [
    {
     "data": {
      "text/plain": [
       "'Cajal-Retzius_Cell'"
      ]
     },
     "execution_count": 3,
     "metadata": {},
     "output_type": "execute_result"
    }
   ],
   "source": [
    "group = group_name.replace(' ', '_')\n",
    "group"
   ]
  },
  {
   "cell_type": "code",
   "execution_count": 4,
   "id": "8faba1c9-a3f0-41db-9250-1f6752cf223f",
   "metadata": {
    "execution": {
     "iopub.execute_input": "2023-06-27T07:44:26.847473Z",
     "iopub.status.busy": "2023-06-27T07:44:26.847161Z",
     "iopub.status.idle": "2023-06-27T07:44:26.852108Z",
     "shell.execute_reply": "2023-06-27T07:44:26.851314Z",
     "shell.execute_reply.started": "2023-06-27T07:44:26.847446Z"
    }
   },
   "outputs": [],
   "source": [
    "chunk_list = glob(f'../{group}_chunk*/')\n"
   ]
  },
  {
   "cell_type": "code",
   "execution_count": 5,
   "id": "d0ea3827-5224-4d16-aec2-7e279c25ab6f",
   "metadata": {
    "execution": {
     "iopub.execute_input": "2023-06-27T07:45:21.085169Z",
     "iopub.status.busy": "2023-06-27T07:45:21.084913Z",
     "iopub.status.idle": "2023-06-27T07:45:21.089840Z",
     "shell.execute_reply": "2023-06-27T07:45:21.089324Z",
     "shell.execute_reply.started": "2023-06-27T07:45:21.085149Z"
    }
   },
   "outputs": [
    {
     "data": {
      "text/plain": [
       "['../Cajal-Retzius_Cell_chunk0/']"
      ]
     },
     "execution_count": 5,
     "metadata": {},
     "output_type": "execute_result"
    }
   ],
   "source": [
    "chunk_list"
   ]
  },
  {
   "cell_type": "code",
   "execution_count": 9,
   "id": "619e8bac-bf58-4cd5-837e-fc69e3008948",
   "metadata": {
    "execution": {
     "iopub.execute_input": "2023-06-27T07:52:04.418958Z",
     "iopub.status.busy": "2023-06-27T07:52:04.418662Z",
     "iopub.status.idle": "2023-06-27T07:52:04.422532Z",
     "shell.execute_reply": "2023-06-27T07:52:04.421990Z",
     "shell.execute_reply.started": "2023-06-27T07:52:04.418933Z"
    },
    "tags": []
   },
   "outputs": [],
   "source": [
    "if len(chunk_list)==1:\n",
    "    cmd = f'rsync -arv ../{group}_chunk0/raw.cool {group}.raw.cool'\n",
    "else:\n",
    "    cmd = f'cooler merge {group}.raw.cool'\n",
    "    for xx in chunk_list:\n",
    "        cmd += f' {xx}raw.cool'\n"
   ]
  },
  {
   "cell_type": "code",
   "execution_count": 10,
   "id": "499c0484-ef60-4059-8429-adf60de4f6b1",
   "metadata": {
    "execution": {
     "iopub.execute_input": "2023-06-27T07:52:05.408535Z",
     "iopub.status.busy": "2023-06-27T07:52:05.408195Z",
     "iopub.status.idle": "2023-06-27T07:52:05.423687Z",
     "shell.execute_reply": "2023-06-27T07:52:05.422828Z",
     "shell.execute_reply.started": "2023-06-27T07:52:05.408509Z"
    },
    "tags": []
   },
   "outputs": [
    {
     "data": {
      "text/plain": [
       "0"
      ]
     },
     "execution_count": 10,
     "metadata": {},
     "output_type": "execute_result"
    }
   ],
   "source": [
    "os.system(cmd)\n"
   ]
  },
  {
   "cell_type": "code",
   "execution_count": null,
   "id": "669a2366-5c5a-4736-85eb-ee33eaa015f6",
   "metadata": {},
   "outputs": [],
   "source": []
  }
 ],
 "metadata": {
  "kernelspec": {
   "display_name": "Python 3 (ipykernel)",
   "language": "python",
   "name": "python3"
  },
  "language_info": {
   "codemirror_mode": {
    "name": "ipython",
    "version": 3
   },
   "file_extension": ".py",
   "mimetype": "text/x-python",
   "name": "python",
   "nbconvert_exporter": "python",
   "pygments_lexer": "ipython3",
   "version": "3.7.12"
  }
 },
 "nbformat": 4,
 "nbformat_minor": 5
}
