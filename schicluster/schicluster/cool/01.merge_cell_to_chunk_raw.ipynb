{
 "cells": [
  {
   "cell_type": "code",
   "execution_count": 1,
   "id": "81216272-5fe6-4b0a-9a2d-4b73fab35790",
   "metadata": {
    "execution": {
     "iopub.execute_input": "2023-06-26T21:54:46.035627Z",
     "iopub.status.busy": "2023-06-26T21:54:46.035375Z",
     "iopub.status.idle": "2023-06-26T21:54:46.038819Z",
     "shell.execute_reply": "2023-06-26T21:54:46.038305Z",
     "shell.execute_reply.started": "2023-06-26T21:54:46.035608Z"
    },
    "tags": []
   },
   "outputs": [],
   "source": [
    "import os"
   ]
  },
  {
   "cell_type": "code",
   "execution_count": 2,
   "id": "b3a6fa02-fa00-409b-a03a-a6b9a5450d41",
   "metadata": {
    "execution": {
     "iopub.execute_input": "2023-06-26T21:54:48.102705Z",
     "iopub.status.busy": "2023-06-26T21:54:48.102427Z",
     "iopub.status.idle": "2023-06-26T21:54:48.105711Z",
     "shell.execute_reply": "2023-06-26T21:54:48.105163Z",
     "shell.execute_reply.started": "2023-06-26T21:54:48.102680Z"
    },
    "tags": [
     "parameters"
    ]
   },
   "outputs": [],
   "source": [
    "group_name = 'Cajal-Retzius Cell'\n"
   ]
  },
  {
   "cell_type": "code",
   "execution_count": 3,
   "id": "6c08faf7-2ca3-41aa-b890-3a3ec554be60",
   "metadata": {
    "execution": {
     "iopub.execute_input": "2023-06-26T21:54:48.530468Z",
     "iopub.status.busy": "2023-06-26T21:54:48.530285Z",
     "iopub.status.idle": "2023-06-26T21:54:48.534662Z",
     "shell.execute_reply": "2023-06-26T21:54:48.533801Z",
     "shell.execute_reply.started": "2023-06-26T21:54:48.530452Z"
    }
   },
   "outputs": [
    {
     "data": {
      "text/plain": [
       "'Cajal-Retzius_Cell'"
      ]
     },
     "execution_count": 3,
     "metadata": {},
     "output_type": "execute_result"
    }
   ],
   "source": [
    "group = group_name.replace(' ', '_')\n",
    "group"
   ]
  },
  {
   "cell_type": "code",
   "execution_count": null,
   "id": "c2912b9f-9f63-4c28-9de8-186345cb9176",
   "metadata": {},
   "outputs": [],
   "source": [
    "cmd = f'hicluster merge-cell-raw --cell_table cell_table.tsv --chrom_size_path /data/ref/mm10/genome/mm10.main.chrom.sizes --output_file raw.cool --chr1 1 --pos1 2 --chr2 3 --pos2 4'\n"
   ]
  },
  {
   "cell_type": "code",
   "execution_count": null,
   "id": "e766b725-d53e-4b5d-aca7-6c48a2847ad6",
   "metadata": {},
   "outputs": [],
   "source": [
    "os.system(cmd)\n"
   ]
  }
 ],
 "metadata": {
  "kernelspec": {
   "display_name": "Python 3 (ipykernel)",
   "language": "python",
   "name": "python3"
  },
  "language_info": {
   "codemirror_mode": {
    "name": "ipython",
    "version": 3
   },
   "file_extension": ".py",
   "mimetype": "text/x-python",
   "name": "python",
   "nbconvert_exporter": "python",
   "pygments_lexer": "ipython3",
   "version": "3.7.12"
  }
 },
 "nbformat": 4,
 "nbformat_minor": 5
}
