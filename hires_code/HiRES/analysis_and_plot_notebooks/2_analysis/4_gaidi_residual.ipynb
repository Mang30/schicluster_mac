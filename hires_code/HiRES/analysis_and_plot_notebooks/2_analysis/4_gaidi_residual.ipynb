{
 "cells": [
  {
   "cell_type": "code",
   "execution_count": null,
   "metadata": {
    "tags": [],
    "vscode": {
     "languageId": "r"
    }
   },
   "outputs": [
    {
     "name": "stderr",
     "output_type": "stream",
     "text": [
      "Registered S3 method overwritten by 'spatstat.geom':\n",
      "  method     from\n",
      "  print.boxx cli \n",
      "\n",
      "Attaching SeuratObject\n",
      "\n",
      "── \u001b[1mAttaching packages\u001b[22m ─────────────────────────────────────────────────────────────────────────────────────────────────────────────────────────────────────────────────────────────────────────────────────────────────────────────────────────────────────────────────────────────────────────── tidyverse 1.3.1 ──\n",
      "\n",
      "\u001b[32m✔\u001b[39m \u001b[34mggplot2\u001b[39m 3.3.5     \u001b[32m✔\u001b[39m \u001b[34mpurrr  \u001b[39m 0.3.4\n",
      "\u001b[32m✔\u001b[39m \u001b[34mtibble \u001b[39m 3.1.6     \u001b[32m✔\u001b[39m \u001b[34mdplyr  \u001b[39m 1.0.8\n",
      "\u001b[32m✔\u001b[39m \u001b[34mtidyr  \u001b[39m 1.2.0     \u001b[32m✔\u001b[39m \u001b[34mstringr\u001b[39m 1.4.0\n",
      "\u001b[32m✔\u001b[39m \u001b[34mreadr  \u001b[39m 2.1.2     \u001b[32m✔\u001b[39m \u001b[34mforcats\u001b[39m 0.5.1\n",
      "\n",
      "── \u001b[1mConflicts\u001b[22m ────────────────────────────────────────────────────────────────────────────────────────────────────────────────────────────────────────────────────────────────────────────────────────────────────────────────────────────────────────────────────────────────────────────── tidyverse_conflicts() ──\n",
      "\u001b[31m✖\u001b[39m \u001b[34mdplyr\u001b[39m::\u001b[32mfilter()\u001b[39m masks \u001b[34mstats\u001b[39m::filter()\n",
      "\u001b[31m✖\u001b[39m \u001b[34mdplyr\u001b[39m::\u001b[32mlag()\u001b[39m    masks \u001b[34mstats\u001b[39m::lag()\n",
      "\n",
      "\n",
      "Attaching package: ‘foreach’\n",
      "\n",
      "\n",
      "The following objects are masked from ‘package:purrr’:\n",
      "\n",
      "    accumulate, when\n",
      "\n",
      "\n",
      "Loading required package: iterators\n",
      "\n",
      "Loading required package: parallel\n",
      "\n",
      "Loading required package: grid\n",
      "\n",
      "========================================\n",
      "ComplexHeatmap version 2.10.0\n",
      "Bioconductor page: http://bioconductor.org/packages/ComplexHeatmap/\n",
      "Github page: https://github.com/jokergoo/ComplexHeatmap\n",
      "Documentation: http://jokergoo.github.io/ComplexHeatmap-reference\n",
      "\n",
      "If you use it in published research, please cite:\n",
      "Gu, Z. Complex heatmaps reveal patterns and correlations in multidimensional \n",
      "  genomic data. Bioinformatics 2016.\n",
      "\n",
      "The new InteractiveComplexHeatmap package can directly export static \n",
      "complex heatmaps into an interactive Shiny app with zero effort. Have a try!\n",
      "\n",
      "This message can be suppressed by:\n",
      "  suppressPackageStartupMessages(library(ComplexHeatmap))\n",
      "========================================\n",
      "\n",
      "\n",
      "Warning message in fun(libname, pkgname):\n",
      "“bedtoolsr was built with bedtools version 2.30.0 but you have version 2.29.2 installed. Function syntax may have changed and wrapper will not function correctly. To fix this, please install bedtools version 2.30.0 and either add it to your PATH or run:\n",
      "options(bedtools.path = \\\"[bedtools path]\\\")”\n"
     ]
    }
   ],
   "source": [
    "# =====================================================================\n",
    "# GADI残差分析 - Hi-C接触与基因表达时序关系分析\n",
    "# =====================================================================\n",
    "# \n",
    "# 目的: 分析基因表达与染色质接触的时序关系，识别先导(prior)和滞后(lag)模式\n",
    "# 数据: 小鼠胚胎发育过程中的单细胞Hi-C和RNA-seq数据\n",
    "# 方法: 通过比较GADI(基因相关差异接触)和RNA表达的时序曲线计算残差\n",
    "\n",
    "# 加载必要的R包\n",
    "library(Seurat)          # 单细胞数据分析\n",
    "library(tidyverse)       # 数据处理和可视化\n",
    "library(foreach)         # 并行计算\n",
    "library(doParallel)      # 并行计算后端\n",
    "library(ggpubr)          # 发表质量的图形\n",
    "source(\"/shareb//zliu//analysis/hires_gastrulation/CHARMtools/Rlibs/plotFun.R\")\n",
    "library(ComplexHeatmap)  # 复杂热图绘制\n",
    "options(bedtools.path = \"~/miniconda3/envs/py3/bin\")\n",
    "library(bedtoolsr)       # 基因组区间操作\n",
    "options(scipen=999)      # 禁用科学计数法\n",
    "\n",
    "# 定义细胞类型颜色方案\n",
    "# 用于一致的可视化，包括神经、中胚层、内胚层等各种细胞类型\n",
    "celltypeColors = c(\n",
    "\"mitosis\"=\"#bebebe\",\"blood\"=\"#ff9400\",\n",
    "\"ExE endoderm\"=\"#fec44f\", \"ExE ectoderm\"=\"#cab2d6\", \n",
    "\"epiblast and PS\"=\"#addd8e\",\n",
    "#neural - 神经系统相关细胞类型（蓝色系）\n",
    "\"neural ectoderm\"=\"#AECBE6\",\"NMP\"=\"#96B9DB\",\"neural tube\"=\"#7EA8D0\",\"notochord\"=\"#6696C6\",\"radial glias\"=\"#4F85BB\",\"oligodendrocytes and progenitors\"=\"#3773B1\",\"early neurons\"=\"#1F62A6\",\"schwann cell precursors\"=\"#08519C\",\n",
    "#mesodermal - 中胚层相关细胞类型（红色系）\n",
    "\"early mesoderm\"=\"#FC9272\",\"ExE mesoderm\"=\"#EF7F64\",\"early mesenchyme\"=\"#E36C57\",\"intermediate mesoderm\"=\"#D6594A\", \"myocytes\"=\"#CA473C\",\"mix late mesenchyme\"=\"#BD342F\",\n",
    "\"endoderm\"=\"#fe9929\",\"epithelial cells\"=\"#fa9fb5\"\n",
    ")\n",
    "\n",
    "# 细胞周期颜色方案\n",
    "cellcyclecolors = c(\"G0\"=\"#762a83\",\"G1\"=\"#c2a5cf\",\"Early-S\"=\"#99d8c9\",\"Mid-S\"=\"#66c2a4\",\"Late-S\"=\"#41ae76\",\"G2\"=\"#238b45\",\"M\"=\"#ea6e34\")\n",
    "\n",
    "# 加载Hi-RES小鼠胚胎发育数据集\n",
    "hires <- readRDS(\"../../hires_mouse_emb_dev.new.rds\")"
   ]
  },
  {
   "cell_type": "code",
   "execution_count": null,
   "metadata": {
    "vscode": {
     "languageId": "r"
    }
   },
   "outputs": [],
   "source": [
    "<VSCode.Cell id=\"#VSC-baf57516\" language=\"r\">\n",
    "# =====================================================================\n",
    "# 核心分析函数定义\n",
    "# =====================================================================\n",
    "\n",
    "# 函数1: 计算基因组区间重叠比例\n",
    "# 用于分析GADI位点与特定基因组特征的重叠情况\n",
    "overlap_ratio <- function(bedpe,bed){\n",
    "    # 标准化bed格式（染色体、起始、终止位置）\n",
    "    bed <- bed %>% select(1:3)\n",
    "    names(bed) <- c(\"chrom\",\"start\",\"end\")\n",
    "    \n",
    "    # 将bedpe格式分离为左右两个区间\n",
    "    bed1_l <- bedpe %>% select(1:3)  # 左端区间\n",
    "    bed1_r <- bedpe %>% select(4:6)  # 右端区间\n",
    "\n",
    "    names(bed1_l) <- c(\"chrom\",\"start\",\"end\")\n",
    "    names(bed1_r) <- c(\"chrom\",\"start\",\"end\")\n",
    "    names(bed) <- c(\"chrom\",\"start\",\"end\")\n",
    "    \n",
    "    # 计算左右端区间与目标bed的重叠\n",
    "    bed1_l_intersect <- valr::bed_intersect(bed1_l%>% mutate(id = row_number()),bed)  %>% select(1:4) %>% unique()\n",
    "    bed1_r_intersect <- valr::bed_intersect(bed1_r%>% mutate(id = row_number()),bed)  %>% select(1:4) %>% unique()\n",
    "    \n",
    "    # 合并重叠结果并计算比例\n",
    "    intersected <- full_join(bed1_l_intersect,bed1_r_intersect,by=\"id.x\")\n",
    "    a=dim(intersected %>% filter(chrom.x == chrom.y))[1]  # 同染色体重叠数\n",
    "    b=dim(intersected)[1]                                  # 总重叠数\n",
    "    c=dim(bedpe)[1]                                        # 总bedpe数\n",
    "    return(c(a/c,b/c))  # 返回重叠比例\n",
    "}\n",
    "\n",
    "# 函数2: 动态分析后处理 - 识别先导/滞后模式\n",
    "# 通过统计检验识别GADI和RNA表达的时序关系\n",
    "dynamic_postprocess <- function(dynamics,fdr_threshold = 0.05){\n",
    "    # 标准化时序数据并计算残差\n",
    "    temp <- dynamics %>%  group_by(gene,gadi,type) %>% \n",
    "        mutate(norm_value = (value - min(fitted_raw))/(max(fitted_raw) - min(fitted_raw))) %>% \n",
    "        select(-c(value,fitted_raw,fitted,high,low)) %>% \n",
    "        group_by(type) %>% mutate(id = row_number()) %>% \n",
    "        spread(type,norm_value)  %>% \n",
    "        mutate(residue = GADI - RNA) %>% na.omit()  %>%\n",
    "        group_by(gene,gadi) \n",
    "    \n",
    "    # 对每个基因-GADI对进行t检验，检验残差是否显著偏离0\n",
    "    testres = temp %>% group_by(gene,gadi) %>% \n",
    "        summarise(residual = mean(GADI-RNA),\n",
    "                 pv = t.test(GADI-RNA,mu=0)$p.value,\n",
    "                 t=t.test(GADI-RNA,mu=0)$statistic) %>% ungroup()\n",
    "    \n",
    "    # 多重检验校正和分类\n",
    "    testres <- testres  %>% \n",
    "        mutate(fdr = p.adjust(pv,method=\"BH\")) %>% \n",
    "        mutate(type = ifelse(sign(t)==1,\"early\",\"lag\"),           # early: GADI先于RNA, lag: GADI滞后于RNA\n",
    "               sigtype = ifelse(fdr < fdr_threshold,\"sig\",\"not\")) \n",
    "    \n",
    "    # 转换为bedpe格式用于基因组分析\n",
    "    testres %>% \n",
    "        mutate(test_type = ifelse(sigtype == \"sig\",type,\"notSig\"))%>% \n",
    "        mutate(gaditype = str_extract(gadi,\"neg|pos\"),gadi=str_remove_all(gadi,\"pos|neg\")) %>% \n",
    "        separate(gadi,into = c(\"chrom\",\"bin1\",\"bin2\")) %>% \n",
    "        mutate(bin1 = as.numeric(bin1),bin2 = as.numeric(bin2)) %>% \n",
    "        mutate(start1=bin1 - 10000,start2=bin2-10000,end1 = bin1 + 10000,end2 = bin2+ 10000,chrom1 = chrom,chrom2 = chrom) %>% \n",
    "        select(chrom1,start1,end1,chrom2,start2,end2,gaditype,test_type,residual,pv,fdr,gene) %>% ungroup() -> testres\n",
    "    return(testres)\n",
    "}\n",
    "\n",
    "library(circlize)\n",
    "\n",
    "# 函数3: 绘制聚类残差热图\n",
    "# 用于可视化GADI、RNA表达和残差的时序模式\n",
    "plot_cluster_residual <- function(heatmapdata_ecto_neg){\n",
    "    # 定义颜色方案\n",
    "    col_fun = colorRamp2(c(0, 0.5, 1), c(\"#f7fbff\",\"#9ecae1\",\"#084594\"))      # GADI/RNA热图颜色\n",
    "    col_fun1 = colorRamp2(c(-1, 0, 1), rev(c(\"#ff0000\",\"#ebe9ef\",\"#0000ff\")))  # 残差热图颜色\n",
    "    \n",
    "    # 准备GADI热图数据\n",
    "    gadi_heatmap_data <- heatmapdata_ecto_neg %>% select(gene,pseudotime,GADI) %>% \n",
    "        spread(pseudotime,GADI) %>% column_to_rownames(\"gene\") \n",
    "    gadi_heatmap <- gadi_heatmap_data %>% \n",
    "        Heatmap(cluster_columns = F,cluster_rows = F,show_column_names = F,show_row_names = F,\n",
    "               column_title = \"GADI\",heatmap_legend_param = list(title = \"GADI\"),col = col_fun) \n",
    "\n",
    "    # 准备RNA热图数据\n",
    "    RNA_heatmap_data <- heatmapdata_ecto_neg %>% select(gene,pseudotime,RNA) %>% \n",
    "        spread(pseudotime,RNA) %>% column_to_rownames(\"gene\") \n",
    "    RNA_heatmap <- RNA_heatmap_data %>% \n",
    "        Heatmap(cluster_columns = F,cluster_rows = F,show_column_names = F,show_row_names = F,\n",
    "               column_title = \"RNA\",heatmap_legend_param = list(title = \"RNA\"),col = col_fun) \n",
    "    \n",
    "    # 根据RNA表达峰值时间排序基因\n",
    "    sorts <- RNA_heatmap_data  %>% t() %>% as.data.frame %>% rownames_to_column(\"ptime\") %>% \n",
    "        gather(name,value,-ptime) %>% group_by(name) %>% arrange(desc(value)) %>% slice(1) %>% \n",
    "        mutate(ptime = as.numeric(ptime)) %>% arrange(ptime) %>% pull(name)\n",
    "    \n",
    "    # 准备残差热图数据\n",
    "    Residual_heatmap_data <- heatmapdata_ecto_neg %>% select(gene,pseudotime,residual) %>% \n",
    "        spread(pseudotime,residual) %>% column_to_rownames(\"gene\") \n",
    "    Residual_heatmap <- Residual_heatmap_data %>% \n",
    "        Heatmap(cluster_columns = F,cluster_rows = FALSE,show_column_names = F,\n",
    "               row_km = 3 ,row_km_repeats = 500,  # K-means聚类分为3组\n",
    "               show_row_names = T,column_title = \"Residuals\",\n",
    "               heatmap_legend_param = list(title = \"Residuals\"),col=col_fun1,\n",
    "               row_order = sorts)\n",
    "\n",
    "    # 绘制组合热图\n",
    "    options(repr.plot.width=8,repr.plot.height=6 ,repr.plot.res=200)\n",
    "    draw(Residual_heatmap+gadi_heatmap + RNA_heatmap)   \n",
    "}\n",
    "\n",
    "# 函数4: 计算动态关系\n",
    "# 计算指定基因和GADI位点在伪时间上的动态变化模式\n",
    "calc_dynamic <-  function(object,gene,gadi,key,slot1=\"mc_sct\",slot2=\"gadis\",correlation = \"pos\"){\n",
    "    # 提取RNA表达数据\n",
    "    RNA_temp <- object[[slot1]]@data[gene,]\n",
    "    \n",
    "    # 提取GADI数据，根据相关性类型调整符号\n",
    "    if(correlation==\"pos\"){\n",
    "        GADI_temp <- object[[slot2]]@data[gadi,]\n",
    "    }\n",
    "    else{\n",
    "        GADI_temp <- -object[[slot2]]@data[gadi,]  # 负相关时取负值\n",
    "    }\n",
    "    \n",
    "    # 合并数据\n",
    "    tempData <- cbind(RNA_temp,GADI_temp,object[[]] %>% select(all_of(key)) %>% pull(1)) %>% as.data.frame() \n",
    "    names(tempData) <- c(\"RNA\",\"GADI\",\"pseudotime\")\n",
    "    tempData <- tempData %>% gather(type,value,-pseudotime)\n",
    "    tempData[is.na(tempData)] <- 0\n",
    "\n",
    "    # 使用LOESS回归拟合平滑曲线并标准化\n",
    "    tempData <- tempData %>% group_by(type) %>% \n",
    "        mutate(fitted_raw = predict(loess(value ~ pseudotime), se=T)$fit,\n",
    "               fitted = (fitted_raw - min(fitted_raw))/(max(fitted_raw)-min(fitted_raw)),\n",
    "               high = fitted + qt(0.975,predict(loess(value ~ pseudotime), se=T)$df)*predict(loess(value ~ pseudotime), se=T)$se, \n",
    "               high = (high - min(high))/(max(high)-min(high)),\n",
    "               low = fitted - qt(0.975,predict(loess(value ~ pseudotime), se=T)$df)*predict(loess(value ~ pseudotime), se=T)$se, \n",
    "               low = (low - min(low))/(max(low)-min(low)))\n",
    "    return(tempData %>% mutate(gene =gene,gadi=gadi))\n",
    "}"
   ]
  },
  {
   "cell_type": "code",
   "execution_count": null,
   "metadata": {
    "vscode": {
     "languageId": "r"
    }
   },
   "outputs": [
    {
     "name": "stderr",
     "output_type": "stream",
     "text": [
      "Warning message:\n",
      "“Keys should be one or more alphanumeric characters followed by an underscore, setting key from cpg_umap_ to cpgumap_”\n",
      "Warning message:\n",
      "“Cannot add objects with duplicate keys (offending key: cpgumap_) setting key to original value 'cpg_umap_'”\n"
     ]
    }
   ],
   "source": [
    "# =====================================================================\n",
    "# 数据预处理和标记基因识别\n",
    "# =====================================================================\n",
    "\n",
    "# 过滤细胞：去除分裂期细胞、胚外组织和血细胞\n",
    "hires <- subset(hires,subset = celltype != \"mitosis\" & \n",
    "                               celltype != \"ExE ectoderm\" & \n",
    "                               celltype != \"ExE endoderm\" & \n",
    "                               cellcycle_threshold != \"M\" & \n",
    "                               celltype != \"blood\")\n",
    "\n",
    "# 设置默认分析对象为SCT标准化数据\n",
    "DefaultAssay(hires) <- \"SCT\"\n",
    "Idents(hires)<- hires$celltype\n",
    "\n",
    "# 识别神经元特异性标记基因\n",
    "# 比较早期神经元与其他细胞类型，筛选上调且显著的基因\n",
    "neuron_markers <- FindMarkers(hires,`ident.1` = \"early neurons\",only.pos = T) %>% \n",
    "    filter(p_val_adj < 0.01)\n",
    "\n",
    "# 识别间充质细胞特异性标记基因\n",
    "# 比较晚期混合间充质与其他细胞类型\n",
    "mesenchyme_markers <- FindMarkers(hires,`ident.1` = \"mix late mesenchyme\",only.pos = T) %>% \n",
    "    filter(p_val_adj < 0.01)"
   ]
  },
  {
   "cell_type": "code",
   "execution_count": null,
   "metadata": {
    "vscode": {
     "languageId": "r"
    }
   },
   "outputs": [
    {
     "data": {
      "text/html": [
       "<style>\n",
       ".list-inline {list-style: none; margin:0; padding: 0}\n",
       ".list-inline>li {display: inline-block}\n",
       ".list-inline>li:not(:last-child)::after {content: \"\\00b7\"; padding: 0 .5ex}\n",
       "</style>\n",
       "<ol class=list-inline><li>695</li><li>5</li></ol>\n"
      ],
      "text/latex": [
       "\\begin{enumerate*}\n",
       "\\item 695\n",
       "\\item 5\n",
       "\\end{enumerate*}\n"
      ],
      "text/markdown": [
       "1. 695\n",
       "2. 5\n",
       "\n",
       "\n"
      ],
      "text/plain": [
       "[1] 695   5"
      ]
     },
     "metadata": {},
     "output_type": "display_data"
    },
    {
     "data": {
      "text/html": [
       "<style>\n",
       ".list-inline {list-style: none; margin:0; padding: 0}\n",
       ".list-inline>li {display: inline-block}\n",
       ".list-inline>li:not(:last-child)::after {content: \"\\00b7\"; padding: 0 .5ex}\n",
       "</style>\n",
       "<ol class=list-inline><li>524</li><li>5</li></ol>\n"
      ],
      "text/latex": [
       "\\begin{enumerate*}\n",
       "\\item 524\n",
       "\\item 5\n",
       "\\end{enumerate*}\n"
      ],
      "text/markdown": [
       "1. 524\n",
       "2. 5\n",
       "\n",
       "\n"
      ],
      "text/plain": [
       "[1] 524   5"
      ]
     },
     "metadata": {},
     "output_type": "display_data"
    }
   ],
   "source": [
    "# 检查标记基因数量\n",
    "dim(neuron_markers)      # 神经元标记基因数量\n",
    "dim(mesenchyme_markers)  # 间充质标记基因数量"
   ]
  },
  {
   "cell_type": "code",
   "execution_count": null,
   "metadata": {
    "vscode": {
     "languageId": "r"
    }
   },
   "outputs": [
    {
     "name": "stderr",
     "output_type": "stream",
     "text": [
      "\u001b[1mRows: \u001b[22m\u001b[34m55335\u001b[39m \u001b[1mColumns: \u001b[22m\u001b[34m6\u001b[39m\n",
      "\u001b[36m──\u001b[39m \u001b[1mColumn specification\u001b[22m \u001b[36m────────────────────────────────────────────────────────────────────────────────────────────────────────────────────────────────────────────────────────────────────────────────────────────────────────────────────────────────────────────────────────────────────────────────────────────\u001b[39m\n",
      "\u001b[1mDelimiter:\u001b[22m \"\\t\"\n",
      "\u001b[31mchr\u001b[39m (4): X1, X4, X5, X6\n",
      "\u001b[32mdbl\u001b[39m (2): X2, X3\n",
      "\n",
      "\u001b[36mℹ\u001b[39m Use \u001b[30m\u001b[47m\u001b[30m\u001b[47m`spec()`\u001b[47m\u001b[30m\u001b[49m\u001b[39m to retrieve the full column specification for this data.\n",
      "\u001b[36mℹ\u001b[39m Specify the column types or set \u001b[30m\u001b[47m\u001b[30m\u001b[47m`show_col_types = FALSE`\u001b[47m\u001b[30m\u001b[49m\u001b[39m to quiet this message.\n"
     ]
    }
   ],
   "source": [
    "# 加载小鼠基因组注释信息（mm10）\n",
    "# 包含染色体、起始位置、终止位置、基因ID、基因名和链方向\n",
    "mm10 <- read_tsv(\"/share/Data/public/ref_genome/mouse_ref/M23/raw_data/gene.bed\",col_names = F)\n",
    "names(mm10) <- c(\"chrom\",\"start\",\"end\",\"id\",\"gene\",\"strand\")\n",
    "\n",
    "# 处理基因组注释：\n",
    "# 1. 计算基因长度\n",
    "# 2. 对于有多个转录本的基因，选择最长的一个\n",
    "# 3. 按染色体位置排序\n",
    "mm10 <- mm10 %>% \n",
    "    mutate(length = end - start) %>% \n",
    "    arrange(desc(length)) %>% \n",
    "    group_by(gene) %>% slice(1) %>% ungroup() %>% \n",
    "    valr::bed_sort() %>% \n",
    "    select(-length)"
   ]
  },
  {
   "cell_type": "markdown",
   "metadata": {},
   "source": [
    "# =====================================================================\n",
    "# 数据加载 - GADI和差异接触分析结果\n",
    "# ====================================================================="
   ]
  },
  {
   "cell_type": "code",
   "execution_count": null,
   "metadata": {
    "vscode": {
     "languageId": "r"
    }
   },
   "outputs": [
    {
     "name": "stderr",
     "output_type": "stream",
     "text": [
      "\u001b[1mRows: \u001b[22m\u001b[34m5689793\u001b[39m \u001b[1mColumns: \u001b[22m\u001b[34m13\u001b[39m\n",
      "\u001b[36m──\u001b[39m \u001b[1mColumn specification\u001b[22m \u001b[36m────────────────────────────────────────────────────────────────────────────────────────────────────────────────────────────────────────────────────────────────────────────────────────────────────────────────────────────────────────────────────────────────────────────────────────────\u001b[39m\n",
      "\u001b[1mDelimiter:\u001b[22m \"\\t\"\n",
      "\u001b[31mchr\u001b[39m (4): chrom1, chrom2, pos, celltype\n",
      "\u001b[32mdbl\u001b[39m (9): start1, end1, start2, end2, pv, FDR, diff, mat1_mean_all, mat2_mean...\n",
      "\n",
      "\u001b[36mℹ\u001b[39m Use \u001b[30m\u001b[47m\u001b[30m\u001b[47m`spec()`\u001b[47m\u001b[30m\u001b[49m\u001b[39m to retrieve the full column specification for this data.\n",
      "\u001b[36mℹ\u001b[39m Specify the column types or set \u001b[30m\u001b[47m\u001b[30m\u001b[47m`show_col_types = FALSE`\u001b[47m\u001b[30m\u001b[49m\u001b[39m to quiet this message.\n"
     ]
    }
   ],
   "source": [
    "# 加载原始差异接触（DI）数据\n",
    "# 包含所有检测到的差异接触位点\n",
    "alldi_raw <- read_tsv(\"alldis.tsv.gz\")"
   ]
  },
  {
   "cell_type": "code",
   "execution_count": null,
   "metadata": {
    "vscode": {
     "languageId": "r"
    }
   },
   "outputs": [
    {
     "name": "stderr",
     "output_type": "stream",
     "text": [
      "\u001b[1mRows: \u001b[22m\u001b[34m4727874\u001b[39m \u001b[1mColumns: \u001b[22m\u001b[34m6\u001b[39m\n",
      "\u001b[36m──\u001b[39m \u001b[1mColumn specification\u001b[22m \u001b[36m────────────────────────────────────────────────────────────────────────────────────────────────────────────────────────────────────────────────────────────────────────────────────────────────────────────────────────────────────────────────────────────────────────────────────────────\u001b[39m\n",
      "\u001b[1mDelimiter:\u001b[22m \"\\t\"\n",
      "\u001b[31mchr\u001b[39m (2): chrom1, chrom2\n",
      "\u001b[32mdbl\u001b[39m (4): start1, end1, start2, end2\n",
      "\n",
      "\u001b[36mℹ\u001b[39m Use \u001b[30m\u001b[47m\u001b[30m\u001b[47m`spec()`\u001b[47m\u001b[30m\u001b[49m\u001b[39m to retrieve the full column specification for this data.\n",
      "\u001b[36mℹ\u001b[39m Specify the column types or set \u001b[30m\u001b[47m\u001b[30m\u001b[47m`show_col_types = FALSE`\u001b[47m\u001b[30m\u001b[49m\u001b[39m to quiet this message.\n"
     ]
    }
   ],
   "source": [
    "# 加载随机对照数据集\n",
    "# 用于统计检验的背景对照，包含可检测的基因组位点\n",
    "random_bedpe <- read_tsv(\"alltestable.tsv.gz\")"
   ]
  },
  {
   "cell_type": "code",
   "execution_count": null,
   "metadata": {
    "vscode": {
     "languageId": "r"
    }
   },
   "outputs": [
    {
     "name": "stderr",
     "output_type": "stream",
     "text": [
      "\u001b[1mRows: \u001b[22m\u001b[34m694384\u001b[39m \u001b[1mColumns: \u001b[22m\u001b[34m13\u001b[39m\n",
      "\u001b[36m──\u001b[39m \u001b[1mColumn specification\u001b[22m \u001b[36m────────────────────────────────────────────────────────────────────────────────────────────────────────────────────────────────────────────────────────────────────────────────────────────────────────────────────────────────────────────────────────────────────────────────────────────\u001b[39m\n",
      "\u001b[1mDelimiter:\u001b[22m \"\\t\"\n",
      "\u001b[31mchr\u001b[39m (4): chrom1, chrom2, pos, celltype\n",
      "\u001b[32mdbl\u001b[39m (9): start1, end1, start2, end2, pv, FDR, diff, mat1_mean_all, mat2_mean...\n",
      "\n",
      "\u001b[36mℹ\u001b[39m Use \u001b[30m\u001b[47m\u001b[30m\u001b[47m`spec()`\u001b[47m\u001b[30m\u001b[49m\u001b[39m to retrieve the full column specification for this data.\n",
      "\u001b[36mℹ\u001b[39m Specify the column types or set \u001b[30m\u001b[47m\u001b[30m\u001b[47m`show_col_types = FALSE`\u001b[47m\u001b[30m\u001b[49m\u001b[39m to quiet this message.\n"
     ]
    }
   ],
   "source": [
    "# 加载过滤后的顶级差异接触数据\n",
    "# 经过统计筛选的显著差异接触位点\n",
    "alldi <- read_tsv(\"alldis.filtered.tsv.gz\")"
   ]
  },
  {
   "cell_type": "code",
   "execution_count": null,
   "metadata": {
    "vscode": {
     "languageId": "r"
    }
   },
   "outputs": [
    {
     "name": "stderr",
     "output_type": "stream",
     "text": [
      "\u001b[1mRows: \u001b[22m\u001b[34m1174515\u001b[39m \u001b[1mColumns: \u001b[22m\u001b[34m4\u001b[39m\n",
      "\u001b[36m──\u001b[39m \u001b[1mColumn specification\u001b[22m \u001b[36m────────────────────────────────────────────────────────────────────────────────────────────────────────────────────────────────────────────────────────────────────────────────────────────────────────────────────────────────────────────────────────────────────────────────────────────\u001b[39m\n",
      "\u001b[1mDelimiter:\u001b[22m \"\\t\"\n",
      "\u001b[31mchr\u001b[39m (2): name, pos\n",
      "\u001b[32mdbl\u001b[39m (2): cor, pv\n",
      "\n",
      "\u001b[36mℹ\u001b[39m Use \u001b[30m\u001b[47m\u001b[30m\u001b[47m`spec()`\u001b[47m\u001b[30m\u001b[49m\u001b[39m to retrieve the full column specification for this data.\n",
      "\u001b[36mℹ\u001b[39m Specify the column types or set \u001b[30m\u001b[47m\u001b[30m\u001b[47m`show_col_types = FALSE`\u001b[47m\u001b[30m\u001b[49m\u001b[39m to quiet this message.\n"
     ]
    }
   ],
   "source": [
    "# 加载和处理GADI（基因相关差异接触）数据\n",
    "allgadi <- read_tsv(\"hires_allcor.500k.tsv.gz\")\n",
    "\n",
    "# 去重：每个基因-位点对保留一个记录\n",
    "allgadi %>% group_by(name,pos) %>% slice(1) %>% ungroup() -> allgadi\n",
    "\n",
    "# 多重检验校正并筛选显著的GADI\n",
    "allgadi <- allgadi %>% \n",
    "    mutate(fdr_cor = p.adjust(pv,method=\"BH\")) %>% \n",
    "    filter(fdr_cor < 0.01)\n",
    "\n",
    "# 转换为BEDPE格式用于基因组分析\n",
    "allgadi_bedpe <- allgadi %>%\n",
    "    mutate(pos1=pos) %>% \n",
    "    separate(pos1,into = c(\"chrom\",\"bin1\",\"bin2\")) %>% \n",
    "    mutate(bin1 = as.numeric(bin1),bin2 = as.numeric(bin2)) %>% \n",
    "    mutate(start1=bin1 - 10000,start2=bin2-10000,\n",
    "           end1 = bin1 + 10000,end2 = bin2+ 10000,\n",
    "           chrom1 = chrom,chrom2 = chrom) %>% \n",
    "    select(chrom1,start1,end1,chrom2,start2,end2,name,cor,pv,fdr_cor,pos)\n",
    "\n",
    "# 过滤：只保留每个基因至少有10个GADI位点的数据\n",
    "# 确保有足够的统计功效进行后续分析\n",
    "allgadi_bedpe <- allgadi_bedpe %>% \n",
    "    group_by(name) %>% \n",
    "    mutate(count = n()) %>% \n",
    "    filter(count > 10) %>% \n",
    "    ungroup() %>% \n",
    "    select(-count) "
   ]
  },
  {
   "cell_type": "code",
   "execution_count": null,
   "metadata": {
    "vscode": {
     "languageId": "r"
    }
   },
   "outputs": [],
   "source": [
    "# 为每个GADI位点分配唯一标识符并保存\n",
    "allgadi_bedpe %>% \n",
    "    mutate(GADI_id = paste0(\"GADI_\",row_number())) -> allgadi_bedpe\n",
    "allgadi_bedpe %>% \n",
    "    write_tsv(\"hires_emb_gadi.tsv.gz\")"
   ]
  },
  {
   "cell_type": "code",
   "execution_count": null,
   "metadata": {
    "vscode": {
     "languageId": "r"
    }
   },
   "outputs": [],
   "source": [
    "# 加载metacell水平的Hi-RES数据\n",
    "# 用于时序分析的聚合单细胞数据\n",
    "mc_hires <- readRDS(\"hires_emb_metacell.rds\")"
   ]
  },
  {
   "cell_type": "markdown",
   "metadata": {},
   "source": [
    "# =====================================================================\n",
    "# 残差计算 - GADI与RNA表达时序关系分析\n",
    "# ====================================================================="
   ]
  },
  {
   "cell_type": "code",
   "execution_count": null,
   "metadata": {
    "vscode": {
     "languageId": "r"
    }
   },
   "outputs": [
    {
     "name": "stderr",
     "output_type": "stream",
     "text": [
      "Warning message:\n",
      "“Keys should be one or more alphanumeric characters followed by an underscore, setting key from mcsct_pca_ to mcsctpca_”\n",
      "Warning message:\n",
      "“Keys should be one or more alphanumeric characters followed by an underscore, setting key from mcsct_umap_ to mcsctumap_”\n",
      "Warning message:\n",
      "“Keys should be one or more alphanumeric characters followed by an underscore, setting key from mcsct_pca_ to mcsctpca_”\n",
      "Warning message:\n",
      "“Keys should be one or more alphanumeric characters followed by an underscore, setting key from mcsct_umap_ to mcsctumap_”\n"
     ]
    }
   ],
   "source": [
    "# 定义细胞谱系子集用于谱系特异性分析\n",
    "\n",
    "# 外胚层谱系：包含神经系统发育相关的细胞类型\n",
    "ectoderm <- subset(mc_hires,subset = celltype %in% c(\"epiblast and PS\",\n",
    "                                                    \"neural ectoderm\",\n",
    "                                                    \"neural tube\",\n",
    "                                                    \"radial glias\",\n",
    "                                                    \"notochord\",\n",
    "                                                    \"oligodendrocytes and progenitors\",\n",
    "                                                    \"early neurons\"))\n",
    "\n",
    "# 中胚层谱系：包含间充质和肌肉发育相关的细胞类型\n",
    "mesoderm <- subset(mc_hires,subset = celltype %in% c(\"epiblast and PS\",\n",
    "                                                    \"early mesenchyme\",\n",
    "                                                    \"myocytes\",\n",
    "                                                    \"ExE mesoderm\",\n",
    "                                                    \"early mesoderm\",\n",
    "                                                    \"intermediate mesoderm\",\n",
    "                                                    \"mix late mesenchyme\"))"
   ]
  },
  {
   "cell_type": "code",
   "execution_count": null,
   "metadata": {
    "vscode": {
     "languageId": "r"
    }
   },
   "outputs": [
    {
     "data": {
      "text/plain": [
       "Time difference of 36.09015 mins"
      ]
     },
     "metadata": {},
     "output_type": "display_data"
    }
   ],
   "source": [
    "# =====================================================================\n",
    "# 外胚层谱系GADI-RNA时序分析\n",
    "# =====================================================================\n",
    "\n",
    "# 筛选神经元标记基因对应的GADI数据\n",
    "genes_table <- allgadi_bedpe %>% filter(name %in% rownames(neuron_markers)) \n",
    "\n",
    "start = Sys.time()\n",
    "# 设置150个并行核心进行计算\n",
    "registerDoParallel(150)\n",
    "\n",
    "# 分析负相关的GADI-基因对（基因表达高时接触减少）\n",
    "ecto_dir_gene_dynamic_neg <- foreach(gene = genes_table%>% filter(cor < 0) %>% pull(name),\n",
    "                                   gadi = genes_table%>% filter(cor < 0) %>% pull(pos),\n",
    "                                   .combine = \"rbind\", \n",
    "                                   .errorhandling = \"stop\") %dopar% {\n",
    "    calc_dynamic(ectoderm,gene,gadi,\"sct_pseudotime\",correlation=\"neg\",slot2=\"mc_di\") %>% \n",
    "        mutate(gadi = paste0(gadi,\"neg\"))\n",
    "}\n",
    "\n",
    "# 分析正相关的GADI-基因对（基因表达高时接触增加）\n",
    "ecto_dir_gene_dynamic_pos <- foreach(gene = genes_table%>% filter(cor > 0) %>% pull(name),\n",
    "                                   gadi = genes_table%>% filter(cor > 0) %>% pull(pos),\n",
    "                                   .combine = \"rbind\", \n",
    "                                   .errorhandling = \"stop\") %dopar% {\n",
    "    calc_dynamic(ectoderm,gene,gadi,\"sct_pseudotime\",correlation=\"pos\",slot2=\"mc_di\") %>% \n",
    "        mutate(gadi = paste0(gadi,\"pos\"))\n",
    "}\n",
    "\n",
    "# 合并正负相关结果\n",
    "residuals_dynamic <- rbind(ecto_dir_gene_dynamic_neg,ecto_dir_gene_dynamic_pos)\n",
    "end = Sys.time()\n",
    "print(paste(\"外胚层分析耗时:\", end - start))\n",
    "\n",
    "# 保存神经元GADI时序分析结果\n",
    "residuals_dynamic %>% saveRDS(\"residuals_dynamic.neu.rds.gz\")"
   ]
  },
  {
   "cell_type": "code",
   "execution_count": null,
   "metadata": {
    "vscode": {
     "languageId": "r"
    }
   },
   "outputs": [
    {
     "data": {
      "text/plain": [
       "Time difference of 53.93047 mins"
      ]
     },
     "metadata": {},
     "output_type": "display_data"
    }
   ],
   "source": [
    "# =====================================================================\n",
    "# 中胚层谱系GADI-RNA时序分析\n",
    "# =====================================================================\n",
    "\n",
    "# 筛选间充质标记基因对应的GADI数据\n",
    "genes_table <- allgadi_bedpe %>% filter(name %in% rownames(mesenchyme_markers)) \n",
    "\n",
    "start = Sys.time()\n",
    "\n",
    "# 分析负相关的GADI-基因对\n",
    "meso_dir_gene_dynamic_neg <- foreach(gene = genes_table%>% filter(cor < 0) %>% pull(name),\n",
    "                                   gadi = genes_table%>% filter(cor < 0) %>% pull(pos),\n",
    "                                   .combine = \"rbind\", \n",
    "                                   .errorhandling = \"stop\") %dopar% {\n",
    "    calc_dynamic(mesoderm,gene,gadi,\"sct_pseudotime\",correlation=\"neg\",slot2=\"mc_di\") %>% \n",
    "        mutate(gadi = paste0(gadi,\"neg\"))\n",
    "}\n",
    "\n",
    "# 分析正相关的GADI-基因对\n",
    "meso_dir_gene_dynamic_pos <- foreach(gene = genes_table%>% filter(cor > 0) %>% pull(name),\n",
    "                                   gadi = genes_table%>% filter(cor > 0) %>% pull(pos),\n",
    "                                   .combine = \"rbind\", \n",
    "                                   .errorhandling = \"stop\") %dopar% {\n",
    "    calc_dynamic(mesoderm,gene,gadi,\"sct_pseudotime\",correlation=\"pos\",slot2=\"mc_di\") %>% \n",
    "        mutate(gadi = paste0(gadi,\"pos\"))\n",
    "}\n",
    "\n",
    "# 合并结果\n",
    "residuals_dynamic <- rbind(meso_dir_gene_dynamic_neg,meso_dir_gene_dynamic_pos)\n",
    "end = Sys.time()\n",
    "print(paste(\"中胚层分析耗时:\", end - start))\n",
    "\n",
    "# 保存间充质GADI时序分析结果\n",
    "residuals_dynamic %>% saveRDS(\"residuals_dynamic.mesen.rds.gz\")"
   ]
  },
  {
   "cell_type": "markdown",
   "metadata": {
    "tags": []
   },
   "source": [
    "# =====================================================================\n",
    "# 统计分析和结果总结\n",
    "# ====================================================================="
   ]
  },
  {
   "cell_type": "code",
   "execution_count": 29,
   "metadata": {
    "vscode": {
     "languageId": "r"
    }
   },
   "outputs": [
    {
     "name": "stdout",
     "output_type": "stream",
     "text": [
      "[1] \"Statistics of \\\"Find Marker\\\" on emb cells\"\n",
      "[1] \"Total tested loci: 4727874\"\n",
      "[1] \"DI in at least one celltype: 2861012\"\n",
      "[1] \"Top DI in at least one celltype: 535780\"\n"
     ]
    }
   ],
   "source": [
    "print('Statistics of \\\"Find Marker\\\" on emb cells')\n",
    "print(paste0(\"Total tested loci: \",dim(random)[1]))\n",
    "print(paste0(\"DI in at least one celltype: \",alldi_raw %>% pull(pos) %>% unique() %>% length()))\n",
    "print(paste0(\"Top DI in at least one celltype: \",alldi %>% pull(pos) %>% unique() %>% length()))"
   ]
  },
  {
   "cell_type": "code",
   "execution_count": 30,
   "metadata": {
    "vscode": {
     "languageId": "r"
    }
   },
   "outputs": [
    {
     "name": "stdout",
     "output_type": "stream",
     "text": [
      "[1] \"Among all top di 252243 is positive(less interaction in given celltype)\"\n",
      "[1] \"Among all top di 341716 is positive(more interaction in given celltype)\"\n"
     ]
    }
   ],
   "source": [
    "pos_di_number = alldi %>% filter(diff>0)%>% pull(pos) %>% unique() %>% length()\n",
    "neg_di_number = alldi %>% filter(diff<0)%>% pull(pos) %>% unique() %>% length()\n",
    "print(paste0(\"Among all top di \",pos_di_number,\" is positive(less interaction in given celltype)\"))\n",
    "print(paste0(\"Among all top di \",neg_di_number,\" is positive(more interaction in given celltype)\"))"
   ]
  },
  {
   "cell_type": "code",
   "execution_count": 33,
   "metadata": {
    "vscode": {
     "languageId": "r"
    }
   },
   "outputs": [
    {
     "name": "stdout",
     "output_type": "stream",
     "text": [
      "[1] \"All di gene pair: 390252\"\n",
      "[1] \"GADI contain 223607 DI and 1955 genes\"\n",
      "[1] \"268092 is neg corr(more interactions when expression) and 122160 is pos corr(less interactions when expression)\"\n"
     ]
    }
   ],
   "source": [
    "print(paste0(\"All di gene pair: \",dim(allgadi_bedpe)[1]))\n",
    "print(paste0(\"GADI contain \",length(allgadi_bedpe%>% pull(pos) %>% unique()),\" DI and \",\n",
    "             length(allgadi_bedpe %>% pull(name) %>% unique()),\" genes\"))\n",
    "print(paste0(length(allgadi_bedpe %>% filter(cor < 0)%>% pull(pos) ),\" is neg corr(more interactions when expression) and \",\n",
    "             length(allgadi_bedpe %>% filter(cor > 0)%>% pull(pos) ),\" is pos corr(less interactions when expression)\"))"
   ]
  },
  {
   "cell_type": "code",
   "execution_count": 34,
   "metadata": {
    "vscode": {
     "languageId": "r"
    }
   },
   "outputs": [
    {
     "name": "stderr",
     "output_type": "stream",
     "text": [
      "Warning message:\n",
      "“Using `bins = 30` by default. Pick better value with the argument `bins`.”\n"
     ]
    },
    {
     "data": {
      "image/png": "[encoded data removed]",
      "text/plain": [
       "plot without title"
      ]
     },
     "metadata": {
      "image/png": {
       "height": 400,
       "width": 400
      }
     },
     "output_type": "display_data"
    }
   ],
   "source": [
    "options(repr.plot.height = 4, repr.plot.width = 4,repr.plot.res = 200)\n",
    "allgadi_bedpe %>% group_by(name) %>% summarise(count = n()) %>% gghistogram(x=\"count\")"
   ]
  },
  {
   "cell_type": "code",
   "execution_count": 35,
   "metadata": {
    "vscode": {
     "languageId": "r"
    }
   },
   "outputs": [
    {
     "name": "stderr",
     "output_type": "stream",
     "text": [
      "Warning message:\n",
      "“Using `bins = 30` by default. Pick better value with the argument `bins`.”\n"
     ]
    },
    {
     "data": {
      "image/png": "[encoded data removed]",
      "text/plain": [
       "plot without title"
      ]
     },
     "metadata": {
      "image/png": {
       "height": 400,
       "width": 400
      }
     },
     "output_type": "display_data"
    }
   ],
   "source": [
    "options(repr.plot.height = 4, repr.plot.width = 4,repr.plot.res = 200)\n",
    "allgadi_bedpe %>% group_by(name) %>% summarise(count = n()) %>% filter(count > 10,count < 1000) %>% gghistogram(x=\"count\")"
   ]
  },
  {
   "cell_type": "code",
   "execution_count": 40,
   "metadata": {
    "vscode": {
     "languageId": "r"
    }
   },
   "outputs": [
    {
     "data": {
      "text/html": [
       "223607"
      ],
      "text/latex": [
       "223607"
      ],
      "text/markdown": [
       "223607"
      ],
      "text/plain": [
       "[1] 223607"
      ]
     },
     "metadata": {},
     "output_type": "display_data"
    }
   ],
   "source": [
    "allgadi_bedpe %>% pull(pos) %>% unique() %>% length()"
   ]
  },
  {
   "cell_type": "code",
   "execution_count": 41,
   "metadata": {
    "vscode": {
     "languageId": "r"
    }
   },
   "outputs": [
    {
     "data": {
      "text/html": [
       "<table class=\"dataframe\">\n",
       "<caption>A tibble: 34 × 4</caption>\n",
       "<thead>\n",
       "\t<tr><th scope=col>count</th><th scope=col>count_loci</th><th scope=col>percent</th><th scope=col>type</th></tr>\n",
       "\t<tr><th scope=col>&lt;int&gt;</th><th scope=col>&lt;int&gt;</th><th scope=col>&lt;dbl&gt;</th><th scope=col>&lt;chr&gt;</th></tr>\n",
       "</thead>\n",
       "<tbody>\n",
       "\t<tr><td> 1</td><td>136474</td><td>0.61032973029</td><td>else   </td></tr>\n",
       "\t<tr><td> 2</td><td> 54154</td><td>0.24218383145</td><td>else   </td></tr>\n",
       "\t<tr><td> 3</td><td> 17315</td><td>0.07743496402</td><td>else   </td></tr>\n",
       "\t<tr><td> 4</td><td>  6767</td><td>0.03026291663</td><td>else   </td></tr>\n",
       "\t<tr><td> 5</td><td>  2897</td><td>0.01295576614</td><td>else   </td></tr>\n",
       "\t<tr><td> 6</td><td>  1945</td><td>0.00869829656</td><td>cluster</td></tr>\n",
       "\t<tr><td> 7</td><td>  1073</td><td>0.00479859754</td><td>cluster</td></tr>\n",
       "\t<tr><td> 8</td><td>  1866</td><td>0.00834499814</td><td>cluster</td></tr>\n",
       "\t<tr><td> 9</td><td>   112</td><td>0.00050087877</td><td>cluster</td></tr>\n",
       "\t<tr><td>10</td><td>   134</td><td>0.00059926568</td><td>cluster</td></tr>\n",
       "\t<tr><td>11</td><td>   214</td><td>0.00095703623</td><td>cluster</td></tr>\n",
       "\t<tr><td>12</td><td>   125</td><td>0.00055901649</td><td>cluster</td></tr>\n",
       "\t<tr><td>13</td><td>    54</td><td>0.00024149512</td><td>cluster</td></tr>\n",
       "\t<tr><td>14</td><td>   107</td><td>0.00047851811</td><td>cluster</td></tr>\n",
       "\t<tr><td>15</td><td>    34</td><td>0.00015205248</td><td>cluster</td></tr>\n",
       "\t<tr><td>16</td><td>    19</td><td>0.00008497051</td><td>cluster</td></tr>\n",
       "\t<tr><td>17</td><td>    25</td><td>0.00011180330</td><td>cluster</td></tr>\n",
       "\t<tr><td>18</td><td>    15</td><td>0.00006708198</td><td>cluster</td></tr>\n",
       "\t<tr><td>19</td><td>     5</td><td>0.00002236066</td><td>cluster</td></tr>\n",
       "\t<tr><td>20</td><td>    10</td><td>0.00004472132</td><td>cluster</td></tr>\n",
       "\t<tr><td>21</td><td>     4</td><td>0.00001788853</td><td>cluster</td></tr>\n",
       "\t<tr><td>22</td><td>    44</td><td>0.00019677380</td><td>cluster</td></tr>\n",
       "\t<tr><td>23</td><td>    18</td><td>0.00008049837</td><td>cluster</td></tr>\n",
       "\t<tr><td>24</td><td>     5</td><td>0.00002236066</td><td>cluster</td></tr>\n",
       "\t<tr><td>25</td><td>     4</td><td>0.00001788853</td><td>cluster</td></tr>\n",
       "\t<tr><td>26</td><td>     6</td><td>0.00002683279</td><td>cluster</td></tr>\n",
       "\t<tr><td>27</td><td>     4</td><td>0.00001788853</td><td>cluster</td></tr>\n",
       "\t<tr><td>28</td><td>     8</td><td>0.00003577706</td><td>cluster</td></tr>\n",
       "\t<tr><td>29</td><td>    15</td><td>0.00006708198</td><td>cluster</td></tr>\n",
       "\t<tr><td>30</td><td>    11</td><td>0.00004919345</td><td>cluster</td></tr>\n",
       "\t<tr><td>31</td><td>    10</td><td>0.00004472132</td><td>cluster</td></tr>\n",
       "\t<tr><td>32</td><td>    22</td><td>0.00009838690</td><td>cluster</td></tr>\n",
       "\t<tr><td>33</td><td>    70</td><td>0.00031304923</td><td>cluster</td></tr>\n",
       "\t<tr><td>34</td><td>    41</td><td>0.00018335741</td><td>cluster</td></tr>\n",
       "</tbody>\n",
       "</table>\n"
      ],
      "text/latex": [
       "A tibble: 34 × 4\n",
       "\\begin{tabular}{llll}\n",
       " count & count\\_loci & percent & type\\\\\n",
       " <int> & <int> & <dbl> & <chr>\\\\\n",
       "\\hline\n",
       "\t  1 & 136474 & 0.61032973029 & else   \\\\\n",
       "\t  2 &  54154 & 0.24218383145 & else   \\\\\n",
       "\t  3 &  17315 & 0.07743496402 & else   \\\\\n",
       "\t  4 &   6767 & 0.03026291663 & else   \\\\\n",
       "\t  5 &   2897 & 0.01295576614 & else   \\\\\n",
       "\t  6 &   1945 & 0.00869829656 & cluster\\\\\n",
       "\t  7 &   1073 & 0.00479859754 & cluster\\\\\n",
       "\t  8 &   1866 & 0.00834499814 & cluster\\\\\n",
       "\t  9 &    112 & 0.00050087877 & cluster\\\\\n",
       "\t 10 &    134 & 0.00059926568 & cluster\\\\\n",
       "\t 11 &    214 & 0.00095703623 & cluster\\\\\n",
       "\t 12 &    125 & 0.00055901649 & cluster\\\\\n",
       "\t 13 &     54 & 0.00024149512 & cluster\\\\\n",
       "\t 14 &    107 & 0.00047851811 & cluster\\\\\n",
       "\t 15 &     34 & 0.00015205248 & cluster\\\\\n",
       "\t 16 &     19 & 0.00008497051 & cluster\\\\\n",
       "\t 17 &     25 & 0.00011180330 & cluster\\\\\n",
       "\t 18 &     15 & 0.00006708198 & cluster\\\\\n",
       "\t 19 &      5 & 0.00002236066 & cluster\\\\\n",
       "\t 20 &     10 & 0.00004472132 & cluster\\\\\n",
       "\t 21 &      4 & 0.00001788853 & cluster\\\\\n",
       "\t 22 &     44 & 0.00019677380 & cluster\\\\\n",
       "\t 23 &     18 & 0.00008049837 & cluster\\\\\n",
       "\t 24 &      5 & 0.00002236066 & cluster\\\\\n",
       "\t 25 &      4 & 0.00001788853 & cluster\\\\\n",
       "\t 26 &      6 & 0.00002683279 & cluster\\\\\n",
       "\t 27 &      4 & 0.00001788853 & cluster\\\\\n",
       "\t 28 &      8 & 0.00003577706 & cluster\\\\\n",
       "\t 29 &     15 & 0.00006708198 & cluster\\\\\n",
       "\t 30 &     11 & 0.00004919345 & cluster\\\\\n",
       "\t 31 &     10 & 0.00004472132 & cluster\\\\\n",
       "\t 32 &     22 & 0.00009838690 & cluster\\\\\n",
       "\t 33 &     70 & 0.00031304923 & cluster\\\\\n",
       "\t 34 &     41 & 0.00018335741 & cluster\\\\\n",
       "\\end{tabular}\n"
      ],
      "text/markdown": [
       "\n",
       "A tibble: 34 × 4\n",
       "\n",
       "| count &lt;int&gt; | count_loci &lt;int&gt; | percent &lt;dbl&gt; | type &lt;chr&gt; |\n",
       "|---|---|---|---|\n",
       "|  1 | 136474 | 0.61032973029 | else    |\n",
       "|  2 |  54154 | 0.24218383145 | else    |\n",
       "|  3 |  17315 | 0.07743496402 | else    |\n",
       "|  4 |   6767 | 0.03026291663 | else    |\n",
       "|  5 |   2897 | 0.01295576614 | else    |\n",
       "|  6 |   1945 | 0.00869829656 | cluster |\n",
       "|  7 |   1073 | 0.00479859754 | cluster |\n",
       "|  8 |   1866 | 0.00834499814 | cluster |\n",
       "|  9 |    112 | 0.00050087877 | cluster |\n",
       "| 10 |    134 | 0.00059926568 | cluster |\n",
       "| 11 |    214 | 0.00095703623 | cluster |\n",
       "| 12 |    125 | 0.00055901649 | cluster |\n",
       "| 13 |     54 | 0.00024149512 | cluster |\n",
       "| 14 |    107 | 0.00047851811 | cluster |\n",
       "| 15 |     34 | 0.00015205248 | cluster |\n",
       "| 16 |     19 | 0.00008497051 | cluster |\n",
       "| 17 |     25 | 0.00011180330 | cluster |\n",
       "| 18 |     15 | 0.00006708198 | cluster |\n",
       "| 19 |      5 | 0.00002236066 | cluster |\n",
       "| 20 |     10 | 0.00004472132 | cluster |\n",
       "| 21 |      4 | 0.00001788853 | cluster |\n",
       "| 22 |     44 | 0.00019677380 | cluster |\n",
       "| 23 |     18 | 0.00008049837 | cluster |\n",
       "| 24 |      5 | 0.00002236066 | cluster |\n",
       "| 25 |      4 | 0.00001788853 | cluster |\n",
       "| 26 |      6 | 0.00002683279 | cluster |\n",
       "| 27 |      4 | 0.00001788853 | cluster |\n",
       "| 28 |      8 | 0.00003577706 | cluster |\n",
       "| 29 |     15 | 0.00006708198 | cluster |\n",
       "| 30 |     11 | 0.00004919345 | cluster |\n",
       "| 31 |     10 | 0.00004472132 | cluster |\n",
       "| 32 |     22 | 0.00009838690 | cluster |\n",
       "| 33 |     70 | 0.00031304923 | cluster |\n",
       "| 34 |     41 | 0.00018335741 | cluster |\n",
       "\n"
      ],
      "text/plain": [
       "   count count_loci percent       type   \n",
       "1   1    136474     0.61032973029 else   \n",
       "2   2     54154     0.24218383145 else   \n",
       "3   3     17315     0.07743496402 else   \n",
       "4   4      6767     0.03026291663 else   \n",
       "5   5      2897     0.01295576614 else   \n",
       "6   6      1945     0.00869829656 cluster\n",
       "7   7      1073     0.00479859754 cluster\n",
       "8   8      1866     0.00834499814 cluster\n",
       "9   9       112     0.00050087877 cluster\n",
       "10 10       134     0.00059926568 cluster\n",
       "11 11       214     0.00095703623 cluster\n",
       "12 12       125     0.00055901649 cluster\n",
       "13 13        54     0.00024149512 cluster\n",
       "14 14       107     0.00047851811 cluster\n",
       "15 15        34     0.00015205248 cluster\n",
       "16 16        19     0.00008497051 cluster\n",
       "17 17        25     0.00011180330 cluster\n",
       "18 18        15     0.00006708198 cluster\n",
       "19 19         5     0.00002236066 cluster\n",
       "20 20        10     0.00004472132 cluster\n",
       "21 21         4     0.00001788853 cluster\n",
       "22 22        44     0.00019677380 cluster\n",
       "23 23        18     0.00008049837 cluster\n",
       "24 24         5     0.00002236066 cluster\n",
       "25 25         4     0.00001788853 cluster\n",
       "26 26         6     0.00002683279 cluster\n",
       "27 27         4     0.00001788853 cluster\n",
       "28 28         8     0.00003577706 cluster\n",
       "29 29        15     0.00006708198 cluster\n",
       "30 30        11     0.00004919345 cluster\n",
       "31 31        10     0.00004472132 cluster\n",
       "32 32        22     0.00009838690 cluster\n",
       "33 33        70     0.00031304923 cluster\n",
       "34 34        41     0.00018335741 cluster"
      ]
     },
     "metadata": {},
     "output_type": "display_data"
    }
   ],
   "source": [
    "allgadi_bedpe %>% group_by(pos) %>% summarise(count = n()) %>% group_by(count) %>% summarise(count_loci = n(),percent = count_loci / 223607) %>% mutate(type = ifelse(count>5,\"cluster\",\"else\"))"
   ]
  },
  {
   "cell_type": "code",
   "execution_count": 88,
   "metadata": {
    "vscode": {
     "languageId": "r"
    }
   },
   "outputs": [
    {
     "data": {
      "image/png": "[encoded data removed]",
      "text/plain": [
       "plot without title"
      ]
     },
     "metadata": {
      "image/png": {
       "height": 300,
       "width": 300
      }
     },
     "output_type": "display_data"
    }
   ],
   "source": [
    "options(repr.plot.height = 2, repr.plot.width = 2,repr.plot.res = 300)\n",
    "#p <- allgadi_bedpe %>% group_by(pos) %>% summarise(count = n()) %>% gghistogram(x=\"count\",bins=34) + theme_Publication()\n",
    "p\n",
    "p %>% ggsave(filename = \"plots/gene_per_di_gadi.pdf\",width = 1.5,height=1.5,dpi=300)"
   ]
  },
  {
   "cell_type": "code",
   "execution_count": 43,
   "metadata": {
    "vscode": {
     "languageId": "r"
    }
   },
   "outputs": [
    {
     "data": {
      "text/html": [
       "0.0264470969903204"
      ],
      "text/latex": [
       "0.0264470969903204"
      ],
      "text/markdown": [
       "0.0264470969903204"
      ],
      "text/plain": [
       "[1] 0.0264471"
      ]
     },
     "metadata": {},
     "output_type": "display_data"
    }
   ],
   "source": [
    "allgadi_bedpe %>% group_by(pos) %>% summarise(count = n()) %>% group_by(count) %>% summarise(count_loci = n(),percent = count_loci / 226868) %>% mutate(type = ifelse(count>5,\"cluster\",\"else\")) %>% filter(type == \"cluster\") %>% pull(percent) %>% sum()"
   ]
  },
  {
   "cell_type": "code",
   "execution_count": 44,
   "metadata": {
    "vscode": {
     "languageId": "r"
    }
   },
   "outputs": [],
   "source": [
    "mesen_dynamics <- readRDS(\"/shareb/zliu/analysis/hires_mouse_dev/figure3_related_new/di_new_emb/residuals_dynamic.mesen.rds.gz\")\n",
    "neural_dynamics <- readRDS(\"/shareb/zliu/analysis/hires_mouse_dev/figure3_related_new/di_new_emb/residuals_dynamic.neu.rds.gz\")"
   ]
  },
  {
   "cell_type": "code",
   "execution_count": 62,
   "metadata": {
    "vscode": {
     "languageId": "r"
    }
   },
   "outputs": [
    {
     "name": "stderr",
     "output_type": "stream",
     "text": [
      "\u001b[1m\u001b[22m`summarise()` has grouped output by 'gene'. You can override using the `.groups` argument.\n",
      "\u001b[1m\u001b[22m`summarise()` has grouped output by 'gene'. You can override using the `.groups` argument.\n"
     ]
    }
   ],
   "source": [
    "neural_testRes <- dynamic_postprocess(neural_dynamics)\n",
    "mesen_testRes <- dynamic_postprocess(mesen_dynamics)"
   ]
  },
  {
   "cell_type": "code",
   "execution_count": 63,
   "metadata": {
    "vscode": {
     "languageId": "r"
    }
   },
   "outputs": [
    {
     "data": {
      "text/html": [
       "<style>\n",
       ".list-inline {list-style: none; margin:0; padding: 0}\n",
       ".list-inline>li {display: inline-block}\n",
       ".list-inline>li:not(:last-child)::after {content: \"\\00b7\"; padding: 0 .5ex}\n",
       "</style>\n",
       "<ol class=list-inline><li>104515</li><li>12</li></ol>\n"
      ],
      "text/latex": [
       "\\begin{enumerate*}\n",
       "\\item 104515\n",
       "\\item 12\n",
       "\\end{enumerate*}\n"
      ],
      "text/markdown": [
       "1. 104515\n",
       "2. 12\n",
       "\n",
       "\n"
      ],
      "text/plain": [
       "[1] 104515     12"
      ]
     },
     "metadata": {},
     "output_type": "display_data"
    },
    {
     "data": {
      "text/html": [
       "<style>\n",
       ".list-inline {list-style: none; margin:0; padding: 0}\n",
       ".list-inline>li {display: inline-block}\n",
       ".list-inline>li:not(:last-child)::after {content: \"\\00b7\"; padding: 0 .5ex}\n",
       "</style>\n",
       "<ol class=list-inline><li>90322</li><li>12</li></ol>\n"
      ],
      "text/latex": [
       "\\begin{enumerate*}\n",
       "\\item 90322\n",
       "\\item 12\n",
       "\\end{enumerate*}\n"
      ],
      "text/markdown": [
       "1. 90322\n",
       "2. 12\n",
       "\n",
       "\n"
      ],
      "text/plain": [
       "[1] 90322    12"
      ]
     },
     "metadata": {},
     "output_type": "display_data"
    }
   ],
   "source": [
    "mesen_testRes %>% dim()\n",
    "neural_testRes %>% dim()"
   ]
  },
  {
   "cell_type": "markdown",
   "metadata": {},
   "source": [
    "# Stat"
   ]
  },
  {
   "cell_type": "code",
   "execution_count": 70,
   "metadata": {
    "vscode": {
     "languageId": "r"
    }
   },
   "outputs": [
    {
     "name": "stdout",
     "output_type": "stream",
     "text": [
      "[1] 90322\n",
      "[1] 56721\n",
      "[1] 33601\n",
      "[1] \"posratio = 0.62798653705631\"\n",
      "[1] 104515\n",
      "[1] 69217\n",
      "[1] 35298\n",
      "[1] \"posratio = 0.662268573888915\"\n"
     ]
    }
   ],
   "source": [
    "total <- neural_testRes %>% dim()\n",
    "posnum <- neural_testRes %>% filter(residual > 0) %>% dim()\n",
    "negnum <- neural_testRes %>% filter(residual < 0) %>% dim()\n",
    "print(total[1])\n",
    "print(posnum[1])\n",
    "print(negnum[1])\n",
    "print(paste0(\"posratio = \",posnum[1]/total[1]))\n",
    "\n",
    "\n",
    "total <- mesen_testRes %>% dim()\n",
    "posnum <- mesen_testRes %>% filter(residual > 0) %>% dim()\n",
    "negnum <- mesen_testRes %>% filter(residual < 0) %>% dim()\n",
    "\n",
    "print(total[1])\n",
    "print(posnum[1])\n",
    "print(negnum[1])\n",
    "print(paste0(\"posratio = \",posnum[1]/total[1]))"
   ]
  },
  {
   "cell_type": "code",
   "execution_count": 72,
   "metadata": {
    "vscode": {
     "languageId": "r"
    }
   },
   "outputs": [
    {
     "data": {
      "text/html": [
       "398"
      ],
      "text/latex": [
       "398"
      ],
      "text/markdown": [
       "398"
      ],
      "text/plain": [
       "[1] 398"
      ]
     },
     "metadata": {},
     "output_type": "display_data"
    },
    {
     "data": {
      "text/html": [
       "325"
      ],
      "text/latex": [
       "325"
      ],
      "text/markdown": [
       "325"
      ],
      "text/plain": [
       "[1] 325"
      ]
     },
     "metadata": {},
     "output_type": "display_data"
    }
   ],
   "source": [
    "neural_testRes %>% pull(gene) %>% unique() %>% length()\n",
    "mesen_testRes %>% pull(gene) %>% unique() %>% length()"
   ]
  },
  {
   "cell_type": "code",
   "execution_count": 73,
   "metadata": {
    "vscode": {
     "languageId": "r"
    }
   },
   "outputs": [
    {
     "data": {
      "text/html": [
       "<style>\n",
       ".list-inline {list-style: none; margin:0; padding: 0}\n",
       ".list-inline>li {display: inline-block}\n",
       ".list-inline>li:not(:last-child)::after {content: \"\\00b7\"; padding: 0 .5ex}\n",
       "</style>\n",
       "<ol class=list-inline><li>72605</li><li>6</li></ol>\n"
      ],
      "text/latex": [
       "\\begin{enumerate*}\n",
       "\\item 72605\n",
       "\\item 6\n",
       "\\end{enumerate*}\n"
      ],
      "text/markdown": [
       "1. 72605\n",
       "2. 6\n",
       "\n",
       "\n"
      ],
      "text/plain": [
       "[1] 72605     6"
      ]
     },
     "metadata": {},
     "output_type": "display_data"
    },
    {
     "data": {
      "text/html": [
       "<style>\n",
       ".list-inline {list-style: none; margin:0; padding: 0}\n",
       ".list-inline>li {display: inline-block}\n",
       ".list-inline>li:not(:last-child)::after {content: \"\\00b7\"; padding: 0 .5ex}\n",
       "</style>\n",
       "<ol class=list-inline><li>75581</li><li>6</li></ol>\n"
      ],
      "text/latex": [
       "\\begin{enumerate*}\n",
       "\\item 75581\n",
       "\\item 6\n",
       "\\end{enumerate*}\n"
      ],
      "text/markdown": [
       "1. 75581\n",
       "2. 6\n",
       "\n",
       "\n"
      ],
      "text/plain": [
       "[1] 75581     6"
      ]
     },
     "metadata": {},
     "output_type": "display_data"
    }
   ],
   "source": [
    "neural_testRes %>% select(1:6) %>% unique() %>% dim()\n",
    "mesen_testRes %>% select(1:6) %>% unique() %>% dim()"
   ]
  },
  {
   "cell_type": "code",
   "execution_count": 74,
   "metadata": {
    "vscode": {
     "languageId": "r"
    }
   },
   "outputs": [
    {
     "data": {
      "text/html": [
       "<table class=\"dataframe\">\n",
       "<caption>A tibble: 3 × 2</caption>\n",
       "<thead>\n",
       "\t<tr><th scope=col>test_type</th><th scope=col>count</th></tr>\n",
       "\t<tr><th scope=col>&lt;chr&gt;</th><th scope=col>&lt;int&gt;</th></tr>\n",
       "</thead>\n",
       "<tbody>\n",
       "\t<tr><td>early </td><td>13334</td></tr>\n",
       "\t<tr><td>lag   </td><td> 4272</td></tr>\n",
       "\t<tr><td>notSig</td><td>72716</td></tr>\n",
       "</tbody>\n",
       "</table>\n"
      ],
      "text/latex": [
       "A tibble: 3 × 2\n",
       "\\begin{tabular}{ll}\n",
       " test\\_type & count\\\\\n",
       " <chr> & <int>\\\\\n",
       "\\hline\n",
       "\t early  & 13334\\\\\n",
       "\t lag    &  4272\\\\\n",
       "\t notSig & 72716\\\\\n",
       "\\end{tabular}\n"
      ],
      "text/markdown": [
       "\n",
       "A tibble: 3 × 2\n",
       "\n",
       "| test_type &lt;chr&gt; | count &lt;int&gt; |\n",
       "|---|---|\n",
       "| early  | 13334 |\n",
       "| lag    |  4272 |\n",
       "| notSig | 72716 |\n",
       "\n"
      ],
      "text/plain": [
       "  test_type count\n",
       "1 early     13334\n",
       "2 lag        4272\n",
       "3 notSig    72716"
      ]
     },
     "metadata": {},
     "output_type": "display_data"
    },
    {
     "data": {
      "text/html": [
       "<table class=\"dataframe\">\n",
       "<caption>A tibble: 3 × 2</caption>\n",
       "<thead>\n",
       "\t<tr><th scope=col>test_type</th><th scope=col>count</th></tr>\n",
       "\t<tr><th scope=col>&lt;chr&gt;</th><th scope=col>&lt;int&gt;</th></tr>\n",
       "</thead>\n",
       "<tbody>\n",
       "\t<tr><td>early </td><td>24242</td></tr>\n",
       "\t<tr><td>lag   </td><td> 3768</td></tr>\n",
       "\t<tr><td>notSig</td><td>76505</td></tr>\n",
       "</tbody>\n",
       "</table>\n"
      ],
      "text/latex": [
       "A tibble: 3 × 2\n",
       "\\begin{tabular}{ll}\n",
       " test\\_type & count\\\\\n",
       " <chr> & <int>\\\\\n",
       "\\hline\n",
       "\t early  & 24242\\\\\n",
       "\t lag    &  3768\\\\\n",
       "\t notSig & 76505\\\\\n",
       "\\end{tabular}\n"
      ],
      "text/markdown": [
       "\n",
       "A tibble: 3 × 2\n",
       "\n",
       "| test_type &lt;chr&gt; | count &lt;int&gt; |\n",
       "|---|---|\n",
       "| early  | 24242 |\n",
       "| lag    |  3768 |\n",
       "| notSig | 76505 |\n",
       "\n"
      ],
      "text/plain": [
       "  test_type count\n",
       "1 early     24242\n",
       "2 lag        3768\n",
       "3 notSig    76505"
      ]
     },
     "metadata": {},
     "output_type": "display_data"
    }
   ],
   "source": [
    "neural_testRes %>% group_by(test_type) %>% summarise(count = n())\n",
    "mesen_testRes %>% group_by(test_type) %>% summarise(count = n())"
   ]
  },
  {
   "cell_type": "code",
   "execution_count": 82,
   "metadata": {
    "tags": [],
    "vscode": {
     "languageId": "r"
    }
   },
   "outputs": [
    {
     "name": "stderr",
     "output_type": "stream",
     "text": [
      "Warning message:\n",
      "“Using `bins = 30` by default. Pick better value with the argument `bins`.”\n",
      "Warning message:\n",
      "“`legend.margin` must be specified using `margin()`. For the old behavior use legend.spacing”\n"
     ]
    },
    {
     "data": {
      "image/png": "[encoded data removed]",
      "text/plain": [
       "plot without title"
      ]
     },
     "metadata": {
      "image/png": {
       "height": 300,
       "width": 300
      }
     },
     "output_type": "display_data"
    }
   ],
   "source": [
    "options(repr.plot.width = 2,repr.plot.height=2,repr.plot.res= 300)\n",
    "p <- rbind(neural_testRes,mesen_testRes) %>% mutate(test_type = ifelse(fdr < 0.05,test_type,\"Not Significant\"))%>% \n",
    "    mutate(test_type=ifelse(test_type == \"early\",\"Prior\",test_type)) %>% \n",
    "    mutate(test_type=ifelse(test_type == \"lag\",\"Subsequent\",test_type)) %>%\n",
    "    gghistogram(x=\"residual\",fill=\"test_type\",palette = c(\"#969696\",\"#a81e2c\",\"#2161a2\")) + theme_Publication()\n",
    "p\n",
    "p %>% ggsave(filename = \"plots/plotshisto_earlylag.pdf\",width = 2,height = 1.5,dpi=300)"
   ]
  },
  {
   "cell_type": "code",
   "execution_count": 93,
   "metadata": {
    "vscode": {
     "languageId": "r"
    }
   },
   "outputs": [],
   "source": [
    "rbind(neural_testRes%>% mutate(lineage = \"EN\"),mesen_testRes%>% mutate(lineage = \"MLM\"))%>% \n",
    " mutate(gaditype = ifelse(gaditype == \"neg\",\"Pos.corr.\",\"Neg.corr.\"),\n",
    "       test_type = ifelse(test_type == \"early\",\"Prior\",ifelse(test_type==\"lag\",\"Succeeding\",\"Not Significant\"))) %>% write_tsv(\"residual.tsv.gz\")"
   ]
  },
  {
   "cell_type": "code",
   "execution_count": 94,
   "metadata": {
    "vscode": {
     "languageId": "r"
    }
   },
   "outputs": [
    {
     "data": {
      "text/html": [
       "<table class=\"dataframe\">\n",
       "<caption>A tibble: 194837 × 13</caption>\n",
       "<thead>\n",
       "\t<tr><th scope=col>chrom1</th><th scope=col>start1</th><th scope=col>end1</th><th scope=col>chrom2</th><th scope=col>start2</th><th scope=col>end2</th><th scope=col>gaditype</th><th scope=col>test_type</th><th scope=col>residual</th><th scope=col>pv</th><th scope=col>fdr</th><th scope=col>gene</th><th scope=col>lineage</th></tr>\n",
       "\t<tr><th scope=col>&lt;chr&gt;</th><th scope=col>&lt;dbl&gt;</th><th scope=col>&lt;dbl&gt;</th><th scope=col>&lt;chr&gt;</th><th scope=col>&lt;dbl&gt;</th><th scope=col>&lt;dbl&gt;</th><th scope=col>&lt;chr&gt;</th><th scope=col>&lt;chr&gt;</th><th scope=col>&lt;dbl&gt;</th><th scope=col>&lt;dbl&gt;</th><th scope=col>&lt;dbl&gt;</th><th scope=col>&lt;chr&gt;</th><th scope=col>&lt;chr&gt;</th></tr>\n",
       "</thead>\n",
       "<tbody>\n",
       "\t<tr><td>chr13</td><td>27290000</td><td>27310000</td><td>chr13</td><td>27990000</td><td>28010000</td><td>Pos.corr.</td><td>Not Significant</td><td>-0.08208606</td><td>0.2679699940</td><td>0.479582821</td><td>2610307P16Rik</td><td>EN</td></tr>\n",
       "\t<tr><td>chr13</td><td>27310000</td><td>27330000</td><td>chr13</td><td>28010000</td><td>28030000</td><td>Pos.corr.</td><td>Not Significant</td><td>-0.06436583</td><td>0.3583830232</td><td>0.574035670</td><td>2610307P16Rik</td><td>EN</td></tr>\n",
       "\t<tr><td>chr13</td><td>28250000</td><td>28270000</td><td>chr13</td><td>29030000</td><td>29050000</td><td>Neg.corr.</td><td>Not Significant</td><td>-0.07582363</td><td>0.3093410898</td><td>0.524001911</td><td>2610307P16Rik</td><td>EN</td></tr>\n",
       "\t<tr><td>chr13</td><td>28250000</td><td>28270000</td><td>chr13</td><td>29050000</td><td>29070000</td><td>Neg.corr.</td><td>Not Significant</td><td>-0.04429305</td><td>0.4616317043</td><td>0.666754598</td><td>2610307P16Rik</td><td>EN</td></tr>\n",
       "\t<tr><td>chr13</td><td>28250000</td><td>28270000</td><td>chr13</td><td>29070000</td><td>29090000</td><td>Neg.corr.</td><td>Not Significant</td><td>-0.05577561</td><td>0.3438962388</td><td>0.559261723</td><td>2610307P16Rik</td><td>EN</td></tr>\n",
       "\t<tr><td>chr13</td><td>28250000</td><td>28270000</td><td>chr13</td><td>29090000</td><td>29110000</td><td>Neg.corr.</td><td>Not Significant</td><td>-0.02392935</td><td>0.5189150515</td><td>0.713461789</td><td>2610307P16Rik</td><td>EN</td></tr>\n",
       "\t<tr><td>chr13</td><td>28270000</td><td>28290000</td><td>chr13</td><td>28490000</td><td>28510000</td><td>Neg.corr.</td><td>Not Significant</td><td>-0.04490550</td><td>0.3884883498</td><td>0.603256967</td><td>2610307P16Rik</td><td>EN</td></tr>\n",
       "\t<tr><td>chr13</td><td>28270000</td><td>28290000</td><td>chr13</td><td>29030000</td><td>29050000</td><td>Neg.corr.</td><td>Not Significant</td><td>-0.05497231</td><td>0.4241383152</td><td>0.635760508</td><td>2610307P16Rik</td><td>EN</td></tr>\n",
       "\t<tr><td>chr13</td><td>28270000</td><td>28290000</td><td>chr13</td><td>29050000</td><td>29070000</td><td>Neg.corr.</td><td>Not Significant</td><td>-0.04375049</td><td>0.3808212392</td><td>0.596023843</td><td>2610307P16Rik</td><td>EN</td></tr>\n",
       "\t<tr><td>chr13</td><td>28270000</td><td>28290000</td><td>chr13</td><td>29070000</td><td>29090000</td><td>Neg.corr.</td><td>Not Significant</td><td>-0.06075193</td><td>0.1946144920</td><td>0.389988910</td><td>2610307P16Rik</td><td>EN</td></tr>\n",
       "\t<tr><td>chr13</td><td>28270000</td><td>28290000</td><td>chr13</td><td>29170000</td><td>29190000</td><td>Neg.corr.</td><td>Not Significant</td><td>-0.04049781</td><td>0.3583830232</td><td>0.574035670</td><td>2610307P16Rik</td><td>EN</td></tr>\n",
       "\t<tr><td>chr13</td><td>28290000</td><td>28310000</td><td>chr13</td><td>29030000</td><td>29050000</td><td>Neg.corr.</td><td>Not Significant</td><td>-0.07379815</td><td>0.2069512488</td><td>0.405867999</td><td>2610307P16Rik</td><td>EN</td></tr>\n",
       "\t<tr><td>chr13</td><td>28290000</td><td>28310000</td><td>chr13</td><td>29050000</td><td>29070000</td><td>Neg.corr.</td><td>Not Significant</td><td>-0.05722043</td><td>0.2198459731</td><td>0.422685682</td><td>2610307P16Rik</td><td>EN</td></tr>\n",
       "\t<tr><td>chr13</td><td>28310000</td><td>28330000</td><td>chr13</td><td>28710000</td><td>28730000</td><td>Neg.corr.</td><td>Succeeding     </td><td>-0.31703923</td><td>0.0003137293</td><td>0.005076435</td><td>2610307P16Rik</td><td>EN</td></tr>\n",
       "\t<tr><td>chr13</td><td>28310000</td><td>28330000</td><td>chr13</td><td>28730000</td><td>28750000</td><td>Neg.corr.</td><td>Succeeding     </td><td>-0.30467806</td><td>0.0004678384</td><td>0.006541192</td><td>2610307P16Rik</td><td>EN</td></tr>\n",
       "\t<tr><td>chr13</td><td>28310000</td><td>28330000</td><td>chr13</td><td>28750000</td><td>28770000</td><td>Neg.corr.</td><td>Succeeding     </td><td>-0.27402190</td><td>0.0007453612</td><td>0.008840777</td><td>2610307P16Rik</td><td>EN</td></tr>\n",
       "\t<tr><td>chr13</td><td>28310000</td><td>28330000</td><td>chr13</td><td>28770000</td><td>28790000</td><td>Neg.corr.</td><td>Succeeding     </td><td>-0.26747822</td><td>0.0009835013</td><td>0.010543834</td><td>2610307P16Rik</td><td>EN</td></tr>\n",
       "\t<tr><td>chr13</td><td>28310000</td><td>28330000</td><td>chr13</td><td>28790000</td><td>28810000</td><td>Neg.corr.</td><td>Succeeding     </td><td>-0.25197350</td><td>0.0017663681</td><td>0.015497028</td><td>2610307P16Rik</td><td>EN</td></tr>\n",
       "\t<tr><td>chr13</td><td>28310000</td><td>28330000</td><td>chr13</td><td>28810000</td><td>28830000</td><td>Neg.corr.</td><td>Succeeding     </td><td>-0.26782827</td><td>0.0014931266</td><td>0.013876137</td><td>2610307P16Rik</td><td>EN</td></tr>\n",
       "\t<tr><td>chr13</td><td>28310000</td><td>28330000</td><td>chr13</td><td>28990000</td><td>29010000</td><td>Neg.corr.</td><td>Not Significant</td><td>-0.10114636</td><td>0.1229676594</td><td>0.287618732</td><td>2610307P16Rik</td><td>EN</td></tr>\n",
       "\t<tr><td>chr13</td><td>28310000</td><td>28330000</td><td>chr13</td><td>29010000</td><td>29030000</td><td>Neg.corr.</td><td>Not Significant</td><td>-0.05918078</td><td>0.2740745522</td><td>0.486526635</td><td>2610307P16Rik</td><td>EN</td></tr>\n",
       "\t<tr><td>chr13</td><td>28330000</td><td>28350000</td><td>chr13</td><td>28510000</td><td>28530000</td><td>Neg.corr.</td><td>Not Significant</td><td>-0.07730143</td><td>0.4531433994</td><td>0.659631545</td><td>2610307P16Rik</td><td>EN</td></tr>\n",
       "\t<tr><td>chr13</td><td>28330000</td><td>28350000</td><td>chr13</td><td>28530000</td><td>28550000</td><td>Neg.corr.</td><td>Not Significant</td><td>-0.12634742</td><td>0.2333073500</td><td>0.439419186</td><td>2610307P16Rik</td><td>EN</td></tr>\n",
       "\t<tr><td>chr13</td><td>28330000</td><td>28350000</td><td>chr13</td><td>28550000</td><td>28570000</td><td>Neg.corr.</td><td>Not Significant</td><td>-0.18013937</td><td>0.0631783349</td><td>0.183337946</td><td>2610307P16Rik</td><td>EN</td></tr>\n",
       "\t<tr><td>chr13</td><td>28330000</td><td>28350000</td><td>chr13</td><td>28570000</td><td>28590000</td><td>Neg.corr.</td><td>Not Significant</td><td>-0.19850886</td><td>0.0178004678</td><td>0.075910002</td><td>2610307P16Rik</td><td>EN</td></tr>\n",
       "\t<tr><td>chr13</td><td>28330000</td><td>28350000</td><td>chr13</td><td>28590000</td><td>28610000</td><td>Neg.corr.</td><td>Succeeding     </td><td>-0.22389298</td><td>0.0025718146</td><td>0.019975186</td><td>2610307P16Rik</td><td>EN</td></tr>\n",
       "\t<tr><td>chr13</td><td>28330000</td><td>28350000</td><td>chr13</td><td>28610000</td><td>28630000</td><td>Neg.corr.</td><td>Succeeding     </td><td>-0.28189087</td><td>0.0006229879</td><td>0.007836980</td><td>2610307P16Rik</td><td>EN</td></tr>\n",
       "\t<tr><td>chr13</td><td>28330000</td><td>28350000</td><td>chr13</td><td>28650000</td><td>28670000</td><td>Neg.corr.</td><td>Succeeding     </td><td>-0.33405869</td><td>0.0002456132</td><td>0.004373871</td><td>2610307P16Rik</td><td>EN</td></tr>\n",
       "\t<tr><td>chr13</td><td>28330000</td><td>28350000</td><td>chr13</td><td>28670000</td><td>28690000</td><td>Neg.corr.</td><td>Succeeding     </td><td>-0.33105032</td><td>0.0003053686</td><td>0.004994839</td><td>2610307P16Rik</td><td>EN</td></tr>\n",
       "\t<tr><td>chr13</td><td>28330000</td><td>28350000</td><td>chr13</td><td>28690000</td><td>28710000</td><td>Neg.corr.</td><td>Succeeding     </td><td>-0.32971652</td><td>0.0002594275</td><td>0.004505290</td><td>2610307P16Rik</td><td>EN</td></tr>\n",
       "\t<tr><td>⋮</td><td>⋮</td><td>⋮</td><td>⋮</td><td>⋮</td><td>⋮</td><td>⋮</td><td>⋮</td><td>⋮</td><td>⋮</td><td>⋮</td><td>⋮</td><td>⋮</td></tr>\n",
       "\t<tr><td>chr7</td><td>6470000</td><td>6490000</td><td>chr7</td><td>6850000</td><td>6870000</td><td>Neg.corr.</td><td>Not Significant</td><td>-0.011267819</td><td>0.749902332</td><td>0.85151551</td><td>Zim1</td><td>MLM</td></tr>\n",
       "\t<tr><td>chr7</td><td>6470000</td><td>6490000</td><td>chr7</td><td>7210000</td><td>7230000</td><td>Pos.corr.</td><td>Not Significant</td><td> 0.067872446</td><td>0.048566480</td><td>0.12969634</td><td>Zim1</td><td>MLM</td></tr>\n",
       "\t<tr><td>chr7</td><td>6470000</td><td>6490000</td><td>chr7</td><td>7250000</td><td>7270000</td><td>Pos.corr.</td><td>Prior          </td><td> 0.111711440</td><td>0.008796181</td><td>0.03632435</td><td>Zim1</td><td>MLM</td></tr>\n",
       "\t<tr><td>chr7</td><td>6470000</td><td>6490000</td><td>chr7</td><td>7270000</td><td>7290000</td><td>Pos.corr.</td><td>Prior          </td><td> 0.140025185</td><td>0.006942961</td><td>0.03045212</td><td>Zim1</td><td>MLM</td></tr>\n",
       "\t<tr><td>chr7</td><td>6470000</td><td>6490000</td><td>chr7</td><td>7290000</td><td>7310000</td><td>Pos.corr.</td><td>Not Significant</td><td> 0.092927498</td><td>0.041637246</td><td>0.11578642</td><td>Zim1</td><td>MLM</td></tr>\n",
       "\t<tr><td>chr7</td><td>6490000</td><td>6510000</td><td>chr7</td><td>6750000</td><td>6770000</td><td>Neg.corr.</td><td>Not Significant</td><td>-0.146626770</td><td>0.369966871</td><td>0.54350455</td><td>Zim1</td><td>MLM</td></tr>\n",
       "\t<tr><td>chr7</td><td>6490000</td><td>6510000</td><td>chr7</td><td>6770000</td><td>6790000</td><td>Neg.corr.</td><td>Not Significant</td><td>-0.107686377</td><td>0.594074768</td><td>0.73809140</td><td>Zim1</td><td>MLM</td></tr>\n",
       "\t<tr><td>chr7</td><td>6490000</td><td>6510000</td><td>chr7</td><td>6790000</td><td>6810000</td><td>Neg.corr.</td><td>Not Significant</td><td>-0.134705152</td><td>0.333911118</td><td>0.50732996</td><td>Zim1</td><td>MLM</td></tr>\n",
       "\t<tr><td>chr7</td><td>6490000</td><td>6510000</td><td>chr7</td><td>6810000</td><td>6830000</td><td>Neg.corr.</td><td>Not Significant</td><td>-0.129531788</td><td>0.245839070</td><td>0.41246802</td><td>Zim1</td><td>MLM</td></tr>\n",
       "\t<tr><td>chr7</td><td>6490000</td><td>6510000</td><td>chr7</td><td>6830000</td><td>6850000</td><td>Neg.corr.</td><td>Not Significant</td><td>-0.070783427</td><td>0.550046612</td><td>0.70351981</td><td>Zim1</td><td>MLM</td></tr>\n",
       "\t<tr><td>chr7</td><td>6510000</td><td>6530000</td><td>chr7</td><td>6790000</td><td>6810000</td><td>Neg.corr.</td><td>Not Significant</td><td>-0.133001185</td><td>0.216746189</td><td>0.37874685</td><td>Zim1</td><td>MLM</td></tr>\n",
       "\t<tr><td>chr7</td><td>6510000</td><td>6530000</td><td>chr7</td><td>6810000</td><td>6830000</td><td>Neg.corr.</td><td>Not Significant</td><td>-0.118931469</td><td>0.197045500</td><td>0.35517670</td><td>Zim1</td><td>MLM</td></tr>\n",
       "\t<tr><td>chr7</td><td>6510000</td><td>6530000</td><td>chr7</td><td>6830000</td><td>6850000</td><td>Neg.corr.</td><td>Not Significant</td><td>-0.050810233</td><td>0.553375564</td><td>0.70594611</td><td>Zim1</td><td>MLM</td></tr>\n",
       "\t<tr><td>chr7</td><td>6510000</td><td>6530000</td><td>chr7</td><td>6850000</td><td>6870000</td><td>Neg.corr.</td><td>Not Significant</td><td>-0.021830045</td><td>0.916696548</td><td>0.95527688</td><td>Zim1</td><td>MLM</td></tr>\n",
       "\t<tr><td>chr7</td><td>6530000</td><td>6550000</td><td>chr7</td><td>6790000</td><td>6810000</td><td>Neg.corr.</td><td>Not Significant</td><td>-0.150132507</td><td>0.155749097</td><td>0.30099512</td><td>Zim1</td><td>MLM</td></tr>\n",
       "\t<tr><td>chr7</td><td>6530000</td><td>6550000</td><td>chr7</td><td>6810000</td><td>6830000</td><td>Neg.corr.</td><td>Not Significant</td><td>-0.102568617</td><td>0.266694156</td><td>0.43609643</td><td>Zim1</td><td>MLM</td></tr>\n",
       "\t<tr><td>chr7</td><td>6530000</td><td>6550000</td><td>chr7</td><td>6830000</td><td>6850000</td><td>Neg.corr.</td><td>Not Significant</td><td>-0.043776857</td><td>0.573554045</td><td>0.72194189</td><td>Zim1</td><td>MLM</td></tr>\n",
       "\t<tr><td>chr7</td><td>6710000</td><td>6730000</td><td>chr7</td><td>6910000</td><td>6930000</td><td>Pos.corr.</td><td>Not Significant</td><td> 0.132167247</td><td>0.097198332</td><td>0.21525827</td><td>Zim1</td><td>MLM</td></tr>\n",
       "\t<tr><td>chr7</td><td>6730000</td><td>6750000</td><td>chr7</td><td>6810000</td><td>6830000</td><td>Pos.corr.</td><td>Not Significant</td><td>-0.181276728</td><td>0.089425399</td><td>0.20285841</td><td>Zim1</td><td>MLM</td></tr>\n",
       "\t<tr><td>chr7</td><td>6730000</td><td>6750000</td><td>chr7</td><td>6850000</td><td>6870000</td><td>Pos.corr.</td><td>Not Significant</td><td> 0.038753340</td><td>0.653960001</td><td>0.78299744</td><td>Zim1</td><td>MLM</td></tr>\n",
       "\t<tr><td>chr7</td><td>6730000</td><td>6750000</td><td>chr7</td><td>6870000</td><td>6890000</td><td>Pos.corr.</td><td>Not Significant</td><td> 0.072694023</td><td>0.422610154</td><td>0.59309674</td><td>Zim1</td><td>MLM</td></tr>\n",
       "\t<tr><td>chr7</td><td>6730000</td><td>6750000</td><td>chr7</td><td>7030000</td><td>7050000</td><td>Pos.corr.</td><td>Not Significant</td><td>-0.151371382</td><td>0.173910509</td><td>0.32527303</td><td>Zim1</td><td>MLM</td></tr>\n",
       "\t<tr><td>chr7</td><td>6750000</td><td>6770000</td><td>chr7</td><td>6810000</td><td>6830000</td><td>Pos.corr.</td><td>Not Significant</td><td>-0.090870762</td><td>0.367313938</td><td>0.54096069</td><td>Zim1</td><td>MLM</td></tr>\n",
       "\t<tr><td>chr7</td><td>6750000</td><td>6770000</td><td>chr7</td><td>7030000</td><td>7050000</td><td>Pos.corr.</td><td>Not Significant</td><td>-0.137356362</td><td>0.328951759</td><td>0.50214546</td><td>Zim1</td><td>MLM</td></tr>\n",
       "\t<tr><td>chr7</td><td>6790000</td><td>6810000</td><td>chr7</td><td>6870000</td><td>6890000</td><td>Pos.corr.</td><td>Not Significant</td><td> 0.081816878</td><td>0.458007304</td><td>0.62560292</td><td>Zim1</td><td>MLM</td></tr>\n",
       "\t<tr><td>chr7</td><td>6810000</td><td>6830000</td><td>chr7</td><td>6890000</td><td>6910000</td><td>Pos.corr.</td><td>Not Significant</td><td> 0.005373316</td><td>0.988078247</td><td>0.99385031</td><td>Zim1</td><td>MLM</td></tr>\n",
       "\t<tr><td>chr7</td><td>6830000</td><td>6850000</td><td>chr7</td><td>6890000</td><td>6910000</td><td>Pos.corr.</td><td>Not Significant</td><td> 0.020153275</td><td>0.705031581</td><td>0.82038740</td><td>Zim1</td><td>MLM</td></tr>\n",
       "\t<tr><td>chr7</td><td>7170000</td><td>7190000</td><td>chr7</td><td>7290000</td><td>7310000</td><td>Pos.corr.</td><td>Not Significant</td><td>-0.255890048</td><td>0.038266096</td><td>0.10880893</td><td>Zim1</td><td>MLM</td></tr>\n",
       "\t<tr><td>chr7</td><td>7170000</td><td>7190000</td><td>chr7</td><td>7310000</td><td>7330000</td><td>Pos.corr.</td><td>Succeeding     </td><td>-0.319026054</td><td>0.004317646</td><td>0.02116102</td><td>Zim1</td><td>MLM</td></tr>\n",
       "\t<tr><td>chr7</td><td>7170000</td><td>7190000</td><td>chr7</td><td>7330000</td><td>7350000</td><td>Pos.corr.</td><td>Succeeding     </td><td>-0.285189073</td><td>0.007047592</td><td>0.03079344</td><td>Zim1</td><td>MLM</td></tr>\n",
       "</tbody>\n",
       "</table>\n"
      ],
      "text/latex": [
       "A tibble: 194837 × 13\n",
       "\\begin{tabular}{lllllllllllll}\n",
       " chrom1 & start1 & end1 & chrom2 & start2 & end2 & gaditype & test\\_type & residual & pv & fdr & gene & lineage\\\\\n",
       " <chr> & <dbl> & <dbl> & <chr> & <dbl> & <dbl> & <chr> & <chr> & <dbl> & <dbl> & <dbl> & <chr> & <chr>\\\\\n",
       "\\hline\n",
       "\t chr13 & 27290000 & 27310000 & chr13 & 27990000 & 28010000 & Pos.corr. & Not Significant & -0.08208606 & 0.2679699940 & 0.479582821 & 2610307P16Rik & EN\\\\\n",
       "\t chr13 & 27310000 & 27330000 & chr13 & 28010000 & 28030000 & Pos.corr. & Not Significant & -0.06436583 & 0.3583830232 & 0.574035670 & 2610307P16Rik & EN\\\\\n",
       "\t chr13 & 28250000 & 28270000 & chr13 & 29030000 & 29050000 & Neg.corr. & Not Significant & -0.07582363 & 0.3093410898 & 0.524001911 & 2610307P16Rik & EN\\\\\n",
       "\t chr13 & 28250000 & 28270000 & chr13 & 29050000 & 29070000 & Neg.corr. & Not Significant & -0.04429305 & 0.4616317043 & 0.666754598 & 2610307P16Rik & EN\\\\\n",
       "\t chr13 & 28250000 & 28270000 & chr13 & 29070000 & 29090000 & Neg.corr. & Not Significant & -0.05577561 & 0.3438962388 & 0.559261723 & 2610307P16Rik & EN\\\\\n",
       "\t chr13 & 28250000 & 28270000 & chr13 & 29090000 & 29110000 & Neg.corr. & Not Significant & -0.02392935 & 0.5189150515 & 0.713461789 & 2610307P16Rik & EN\\\\\n",
       "\t chr13 & 28270000 & 28290000 & chr13 & 28490000 & 28510000 & Neg.corr. & Not Significant & -0.04490550 & 0.3884883498 & 0.603256967 & 2610307P16Rik & EN\\\\\n",
       "\t chr13 & 28270000 & 28290000 & chr13 & 29030000 & 29050000 & Neg.corr. & Not Significant & -0.05497231 & 0.4241383152 & 0.635760508 & 2610307P16Rik & EN\\\\\n",
       "\t chr13 & 28270000 & 28290000 & chr13 & 29050000 & 29070000 & Neg.corr. & Not Significant & -0.04375049 & 0.3808212392 & 0.596023843 & 2610307P16Rik & EN\\\\\n",
       "\t chr13 & 28270000 & 28290000 & chr13 & 29070000 & 29090000 & Neg.corr. & Not Significant & -0.06075193 & 0.1946144920 & 0.389988910 & 2610307P16Rik & EN\\\\\n",
       "\t chr13 & 28270000 & 28290000 & chr13 & 29170000 & 29190000 & Neg.corr. & Not Significant & -0.04049781 & 0.3583830232 & 0.574035670 & 2610307P16Rik & EN\\\\\n",
       "\t chr13 & 28290000 & 28310000 & chr13 & 29030000 & 29050000 & Neg.corr. & Not Significant & -0.07379815 & 0.2069512488 & 0.405867999 & 2610307P16Rik & EN\\\\\n",
       "\t chr13 & 28290000 & 28310000 & chr13 & 29050000 & 29070000 & Neg.corr. & Not Significant & -0.05722043 & 0.2198459731 & 0.422685682 & 2610307P16Rik & EN\\\\\n",
       "\t chr13 & 28310000 & 28330000 & chr13 & 28710000 & 28730000 & Neg.corr. & Succeeding      & -0.31703923 & 0.0003137293 & 0.005076435 & 2610307P16Rik & EN\\\\\n",
       "\t chr13 & 28310000 & 28330000 & chr13 & 28730000 & 28750000 & Neg.corr. & Succeeding      & -0.30467806 & 0.0004678384 & 0.006541192 & 2610307P16Rik & EN\\\\\n",
       "\t chr13 & 28310000 & 28330000 & chr13 & 28750000 & 28770000 & Neg.corr. & Succeeding      & -0.27402190 & 0.0007453612 & 0.008840777 & 2610307P16Rik & EN\\\\\n",
       "\t chr13 & 28310000 & 28330000 & chr13 & 28770000 & 28790000 & Neg.corr. & Succeeding      & -0.26747822 & 0.0009835013 & 0.010543834 & 2610307P16Rik & EN\\\\\n",
       "\t chr13 & 28310000 & 28330000 & chr13 & 28790000 & 28810000 & Neg.corr. & Succeeding      & -0.25197350 & 0.0017663681 & 0.015497028 & 2610307P16Rik & EN\\\\\n",
       "\t chr13 & 28310000 & 28330000 & chr13 & 28810000 & 28830000 & Neg.corr. & Succeeding      & -0.26782827 & 0.0014931266 & 0.013876137 & 2610307P16Rik & EN\\\\\n",
       "\t chr13 & 28310000 & 28330000 & chr13 & 28990000 & 29010000 & Neg.corr. & Not Significant & -0.10114636 & 0.1229676594 & 0.287618732 & 2610307P16Rik & EN\\\\\n",
       "\t chr13 & 28310000 & 28330000 & chr13 & 29010000 & 29030000 & Neg.corr. & Not Significant & -0.05918078 & 0.2740745522 & 0.486526635 & 2610307P16Rik & EN\\\\\n",
       "\t chr13 & 28330000 & 28350000 & chr13 & 28510000 & 28530000 & Neg.corr. & Not Significant & -0.07730143 & 0.4531433994 & 0.659631545 & 2610307P16Rik & EN\\\\\n",
       "\t chr13 & 28330000 & 28350000 & chr13 & 28530000 & 28550000 & Neg.corr. & Not Significant & -0.12634742 & 0.2333073500 & 0.439419186 & 2610307P16Rik & EN\\\\\n",
       "\t chr13 & 28330000 & 28350000 & chr13 & 28550000 & 28570000 & Neg.corr. & Not Significant & -0.18013937 & 0.0631783349 & 0.183337946 & 2610307P16Rik & EN\\\\\n",
       "\t chr13 & 28330000 & 28350000 & chr13 & 28570000 & 28590000 & Neg.corr. & Not Significant & -0.19850886 & 0.0178004678 & 0.075910002 & 2610307P16Rik & EN\\\\\n",
       "\t chr13 & 28330000 & 28350000 & chr13 & 28590000 & 28610000 & Neg.corr. & Succeeding      & -0.22389298 & 0.0025718146 & 0.019975186 & 2610307P16Rik & EN\\\\\n",
       "\t chr13 & 28330000 & 28350000 & chr13 & 28610000 & 28630000 & Neg.corr. & Succeeding      & -0.28189087 & 0.0006229879 & 0.007836980 & 2610307P16Rik & EN\\\\\n",
       "\t chr13 & 28330000 & 28350000 & chr13 & 28650000 & 28670000 & Neg.corr. & Succeeding      & -0.33405869 & 0.0002456132 & 0.004373871 & 2610307P16Rik & EN\\\\\n",
       "\t chr13 & 28330000 & 28350000 & chr13 & 28670000 & 28690000 & Neg.corr. & Succeeding      & -0.33105032 & 0.0003053686 & 0.004994839 & 2610307P16Rik & EN\\\\\n",
       "\t chr13 & 28330000 & 28350000 & chr13 & 28690000 & 28710000 & Neg.corr. & Succeeding      & -0.32971652 & 0.0002594275 & 0.004505290 & 2610307P16Rik & EN\\\\\n",
       "\t ⋮ & ⋮ & ⋮ & ⋮ & ⋮ & ⋮ & ⋮ & ⋮ & ⋮ & ⋮ & ⋮ & ⋮ & ⋮\\\\\n",
       "\t chr7 & 6470000 & 6490000 & chr7 & 6850000 & 6870000 & Neg.corr. & Not Significant & -0.011267819 & 0.749902332 & 0.85151551 & Zim1 & MLM\\\\\n",
       "\t chr7 & 6470000 & 6490000 & chr7 & 7210000 & 7230000 & Pos.corr. & Not Significant &  0.067872446 & 0.048566480 & 0.12969634 & Zim1 & MLM\\\\\n",
       "\t chr7 & 6470000 & 6490000 & chr7 & 7250000 & 7270000 & Pos.corr. & Prior           &  0.111711440 & 0.008796181 & 0.03632435 & Zim1 & MLM\\\\\n",
       "\t chr7 & 6470000 & 6490000 & chr7 & 7270000 & 7290000 & Pos.corr. & Prior           &  0.140025185 & 0.006942961 & 0.03045212 & Zim1 & MLM\\\\\n",
       "\t chr7 & 6470000 & 6490000 & chr7 & 7290000 & 7310000 & Pos.corr. & Not Significant &  0.092927498 & 0.041637246 & 0.11578642 & Zim1 & MLM\\\\\n",
       "\t chr7 & 6490000 & 6510000 & chr7 & 6750000 & 6770000 & Neg.corr. & Not Significant & -0.146626770 & 0.369966871 & 0.54350455 & Zim1 & MLM\\\\\n",
       "\t chr7 & 6490000 & 6510000 & chr7 & 6770000 & 6790000 & Neg.corr. & Not Significant & -0.107686377 & 0.594074768 & 0.73809140 & Zim1 & MLM\\\\\n",
       "\t chr7 & 6490000 & 6510000 & chr7 & 6790000 & 6810000 & Neg.corr. & Not Significant & -0.134705152 & 0.333911118 & 0.50732996 & Zim1 & MLM\\\\\n",
       "\t chr7 & 6490000 & 6510000 & chr7 & 6810000 & 6830000 & Neg.corr. & Not Significant & -0.129531788 & 0.245839070 & 0.41246802 & Zim1 & MLM\\\\\n",
       "\t chr7 & 6490000 & 6510000 & chr7 & 6830000 & 6850000 & Neg.corr. & Not Significant & -0.070783427 & 0.550046612 & 0.70351981 & Zim1 & MLM\\\\\n",
       "\t chr7 & 6510000 & 6530000 & chr7 & 6790000 & 6810000 & Neg.corr. & Not Significant & -0.133001185 & 0.216746189 & 0.37874685 & Zim1 & MLM\\\\\n",
       "\t chr7 & 6510000 & 6530000 & chr7 & 6810000 & 6830000 & Neg.corr. & Not Significant & -0.118931469 & 0.197045500 & 0.35517670 & Zim1 & MLM\\\\\n",
       "\t chr7 & 6510000 & 6530000 & chr7 & 6830000 & 6850000 & Neg.corr. & Not Significant & -0.050810233 & 0.553375564 & 0.70594611 & Zim1 & MLM\\\\\n",
       "\t chr7 & 6510000 & 6530000 & chr7 & 6850000 & 6870000 & Neg.corr. & Not Significant & -0.021830045 & 0.916696548 & 0.95527688 & Zim1 & MLM\\\\\n",
       "\t chr7 & 6530000 & 6550000 & chr7 & 6790000 & 6810000 & Neg.corr. & Not Significant & -0.150132507 & 0.155749097 & 0.30099512 & Zim1 & MLM\\\\\n",
       "\t chr7 & 6530000 & 6550000 & chr7 & 6810000 & 6830000 & Neg.corr. & Not Significant & -0.102568617 & 0.266694156 & 0.43609643 & Zim1 & MLM\\\\\n",
       "\t chr7 & 6530000 & 6550000 & chr7 & 6830000 & 6850000 & Neg.corr. & Not Significant & -0.043776857 & 0.573554045 & 0.72194189 & Zim1 & MLM\\\\\n",
       "\t chr7 & 6710000 & 6730000 & chr7 & 6910000 & 6930000 & Pos.corr. & Not Significant &  0.132167247 & 0.097198332 & 0.21525827 & Zim1 & MLM\\\\\n",
       "\t chr7 & 6730000 & 6750000 & chr7 & 6810000 & 6830000 & Pos.corr. & Not Significant & -0.181276728 & 0.089425399 & 0.20285841 & Zim1 & MLM\\\\\n",
       "\t chr7 & 6730000 & 6750000 & chr7 & 6850000 & 6870000 & Pos.corr. & Not Significant &  0.038753340 & 0.653960001 & 0.78299744 & Zim1 & MLM\\\\\n",
       "\t chr7 & 6730000 & 6750000 & chr7 & 6870000 & 6890000 & Pos.corr. & Not Significant &  0.072694023 & 0.422610154 & 0.59309674 & Zim1 & MLM\\\\\n",
       "\t chr7 & 6730000 & 6750000 & chr7 & 7030000 & 7050000 & Pos.corr. & Not Significant & -0.151371382 & 0.173910509 & 0.32527303 & Zim1 & MLM\\\\\n",
       "\t chr7 & 6750000 & 6770000 & chr7 & 6810000 & 6830000 & Pos.corr. & Not Significant & -0.090870762 & 0.367313938 & 0.54096069 & Zim1 & MLM\\\\\n",
       "\t chr7 & 6750000 & 6770000 & chr7 & 7030000 & 7050000 & Pos.corr. & Not Significant & -0.137356362 & 0.328951759 & 0.50214546 & Zim1 & MLM\\\\\n",
       "\t chr7 & 6790000 & 6810000 & chr7 & 6870000 & 6890000 & Pos.corr. & Not Significant &  0.081816878 & 0.458007304 & 0.62560292 & Zim1 & MLM\\\\\n",
       "\t chr7 & 6810000 & 6830000 & chr7 & 6890000 & 6910000 & Pos.corr. & Not Significant &  0.005373316 & 0.988078247 & 0.99385031 & Zim1 & MLM\\\\\n",
       "\t chr7 & 6830000 & 6850000 & chr7 & 6890000 & 6910000 & Pos.corr. & Not Significant &  0.020153275 & 0.705031581 & 0.82038740 & Zim1 & MLM\\\\\n",
       "\t chr7 & 7170000 & 7190000 & chr7 & 7290000 & 7310000 & Pos.corr. & Not Significant & -0.255890048 & 0.038266096 & 0.10880893 & Zim1 & MLM\\\\\n",
       "\t chr7 & 7170000 & 7190000 & chr7 & 7310000 & 7330000 & Pos.corr. & Succeeding      & -0.319026054 & 0.004317646 & 0.02116102 & Zim1 & MLM\\\\\n",
       "\t chr7 & 7170000 & 7190000 & chr7 & 7330000 & 7350000 & Pos.corr. & Succeeding      & -0.285189073 & 0.007047592 & 0.03079344 & Zim1 & MLM\\\\\n",
       "\\end{tabular}\n"
      ],
      "text/markdown": [
       "\n",
       "A tibble: 194837 × 13\n",
       "\n",
       "| chrom1 &lt;chr&gt; | start1 &lt;dbl&gt; | end1 &lt;dbl&gt; | chrom2 &lt;chr&gt; | start2 &lt;dbl&gt; | end2 &lt;dbl&gt; | gaditype &lt;chr&gt; | test_type &lt;chr&gt; | residual &lt;dbl&gt; | pv &lt;dbl&gt; | fdr &lt;dbl&gt; | gene &lt;chr&gt; | lineage &lt;chr&gt; |\n",
       "|---|---|---|---|---|---|---|---|---|---|---|---|---|\n",
       "| chr13 | 27290000 | 27310000 | chr13 | 27990000 | 28010000 | Pos.corr. | Not Significant | -0.08208606 | 0.2679699940 | 0.479582821 | 2610307P16Rik | EN |\n",
       "| chr13 | 27310000 | 27330000 | chr13 | 28010000 | 28030000 | Pos.corr. | Not Significant | -0.06436583 | 0.3583830232 | 0.574035670 | 2610307P16Rik | EN |\n",
       "| chr13 | 28250000 | 28270000 | chr13 | 29030000 | 29050000 | Neg.corr. | Not Significant | -0.07582363 | 0.3093410898 | 0.524001911 | 2610307P16Rik | EN |\n",
       "| chr13 | 28250000 | 28270000 | chr13 | 29050000 | 29070000 | Neg.corr. | Not Significant | -0.04429305 | 0.4616317043 | 0.666754598 | 2610307P16Rik | EN |\n",
       "| chr13 | 28250000 | 28270000 | chr13 | 29070000 | 29090000 | Neg.corr. | Not Significant | -0.05577561 | 0.3438962388 | 0.559261723 | 2610307P16Rik | EN |\n",
       "| chr13 | 28250000 | 28270000 | chr13 | 29090000 | 29110000 | Neg.corr. | Not Significant | -0.02392935 | 0.5189150515 | 0.713461789 | 2610307P16Rik | EN |\n",
       "| chr13 | 28270000 | 28290000 | chr13 | 28490000 | 28510000 | Neg.corr. | Not Significant | -0.04490550 | 0.3884883498 | 0.603256967 | 2610307P16Rik | EN |\n",
       "| chr13 | 28270000 | 28290000 | chr13 | 29030000 | 29050000 | Neg.corr. | Not Significant | -0.05497231 | 0.4241383152 | 0.635760508 | 2610307P16Rik | EN |\n",
       "| chr13 | 28270000 | 28290000 | chr13 | 29050000 | 29070000 | Neg.corr. | Not Significant | -0.04375049 | 0.3808212392 | 0.596023843 | 2610307P16Rik | EN |\n",
       "| chr13 | 28270000 | 28290000 | chr13 | 29070000 | 29090000 | Neg.corr. | Not Significant | -0.06075193 | 0.1946144920 | 0.389988910 | 2610307P16Rik | EN |\n",
       "| chr13 | 28270000 | 28290000 | chr13 | 29170000 | 29190000 | Neg.corr. | Not Significant | -0.04049781 | 0.3583830232 | 0.574035670 | 2610307P16Rik | EN |\n",
       "| chr13 | 28290000 | 28310000 | chr13 | 29030000 | 29050000 | Neg.corr. | Not Significant | -0.07379815 | 0.2069512488 | 0.405867999 | 2610307P16Rik | EN |\n",
       "| chr13 | 28290000 | 28310000 | chr13 | 29050000 | 29070000 | Neg.corr. | Not Significant | -0.05722043 | 0.2198459731 | 0.422685682 | 2610307P16Rik | EN |\n",
       "| chr13 | 28310000 | 28330000 | chr13 | 28710000 | 28730000 | Neg.corr. | Succeeding      | -0.31703923 | 0.0003137293 | 0.005076435 | 2610307P16Rik | EN |\n",
       "| chr13 | 28310000 | 28330000 | chr13 | 28730000 | 28750000 | Neg.corr. | Succeeding      | -0.30467806 | 0.0004678384 | 0.006541192 | 2610307P16Rik | EN |\n",
       "| chr13 | 28310000 | 28330000 | chr13 | 28750000 | 28770000 | Neg.corr. | Succeeding      | -0.27402190 | 0.0007453612 | 0.008840777 | 2610307P16Rik | EN |\n",
       "| chr13 | 28310000 | 28330000 | chr13 | 28770000 | 28790000 | Neg.corr. | Succeeding      | -0.26747822 | 0.0009835013 | 0.010543834 | 2610307P16Rik | EN |\n",
       "| chr13 | 28310000 | 28330000 | chr13 | 28790000 | 28810000 | Neg.corr. | Succeeding      | -0.25197350 | 0.0017663681 | 0.015497028 | 2610307P16Rik | EN |\n",
       "| chr13 | 28310000 | 28330000 | chr13 | 28810000 | 28830000 | Neg.corr. | Succeeding      | -0.26782827 | 0.0014931266 | 0.013876137 | 2610307P16Rik | EN |\n",
       "| chr13 | 28310000 | 28330000 | chr13 | 28990000 | 29010000 | Neg.corr. | Not Significant | -0.10114636 | 0.1229676594 | 0.287618732 | 2610307P16Rik | EN |\n",
       "| chr13 | 28310000 | 28330000 | chr13 | 29010000 | 29030000 | Neg.corr. | Not Significant | -0.05918078 | 0.2740745522 | 0.486526635 | 2610307P16Rik | EN |\n",
       "| chr13 | 28330000 | 28350000 | chr13 | 28510000 | 28530000 | Neg.corr. | Not Significant | -0.07730143 | 0.4531433994 | 0.659631545 | 2610307P16Rik | EN |\n",
       "| chr13 | 28330000 | 28350000 | chr13 | 28530000 | 28550000 | Neg.corr. | Not Significant | -0.12634742 | 0.2333073500 | 0.439419186 | 2610307P16Rik | EN |\n",
       "| chr13 | 28330000 | 28350000 | chr13 | 28550000 | 28570000 | Neg.corr. | Not Significant | -0.18013937 | 0.0631783349 | 0.183337946 | 2610307P16Rik | EN |\n",
       "| chr13 | 28330000 | 28350000 | chr13 | 28570000 | 28590000 | Neg.corr. | Not Significant | -0.19850886 | 0.0178004678 | 0.075910002 | 2610307P16Rik | EN |\n",
       "| chr13 | 28330000 | 28350000 | chr13 | 28590000 | 28610000 | Neg.corr. | Succeeding      | -0.22389298 | 0.0025718146 | 0.019975186 | 2610307P16Rik | EN |\n",
       "| chr13 | 28330000 | 28350000 | chr13 | 28610000 | 28630000 | Neg.corr. | Succeeding      | -0.28189087 | 0.0006229879 | 0.007836980 | 2610307P16Rik | EN |\n",
       "| chr13 | 28330000 | 28350000 | chr13 | 28650000 | 28670000 | Neg.corr. | Succeeding      | -0.33405869 | 0.0002456132 | 0.004373871 | 2610307P16Rik | EN |\n",
       "| chr13 | 28330000 | 28350000 | chr13 | 28670000 | 28690000 | Neg.corr. | Succeeding      | -0.33105032 | 0.0003053686 | 0.004994839 | 2610307P16Rik | EN |\n",
       "| chr13 | 28330000 | 28350000 | chr13 | 28690000 | 28710000 | Neg.corr. | Succeeding      | -0.32971652 | 0.0002594275 | 0.004505290 | 2610307P16Rik | EN |\n",
       "| ⋮ | ⋮ | ⋮ | ⋮ | ⋮ | ⋮ | ⋮ | ⋮ | ⋮ | ⋮ | ⋮ | ⋮ | ⋮ |\n",
       "| chr7 | 6470000 | 6490000 | chr7 | 6850000 | 6870000 | Neg.corr. | Not Significant | -0.011267819 | 0.749902332 | 0.85151551 | Zim1 | MLM |\n",
       "| chr7 | 6470000 | 6490000 | chr7 | 7210000 | 7230000 | Pos.corr. | Not Significant |  0.067872446 | 0.048566480 | 0.12969634 | Zim1 | MLM |\n",
       "| chr7 | 6470000 | 6490000 | chr7 | 7250000 | 7270000 | Pos.corr. | Prior           |  0.111711440 | 0.008796181 | 0.03632435 | Zim1 | MLM |\n",
       "| chr7 | 6470000 | 6490000 | chr7 | 7270000 | 7290000 | Pos.corr. | Prior           |  0.140025185 | 0.006942961 | 0.03045212 | Zim1 | MLM |\n",
       "| chr7 | 6470000 | 6490000 | chr7 | 7290000 | 7310000 | Pos.corr. | Not Significant |  0.092927498 | 0.041637246 | 0.11578642 | Zim1 | MLM |\n",
       "| chr7 | 6490000 | 6510000 | chr7 | 6750000 | 6770000 | Neg.corr. | Not Significant | -0.146626770 | 0.369966871 | 0.54350455 | Zim1 | MLM |\n",
       "| chr7 | 6490000 | 6510000 | chr7 | 6770000 | 6790000 | Neg.corr. | Not Significant | -0.107686377 | 0.594074768 | 0.73809140 | Zim1 | MLM |\n",
       "| chr7 | 6490000 | 6510000 | chr7 | 6790000 | 6810000 | Neg.corr. | Not Significant | -0.134705152 | 0.333911118 | 0.50732996 | Zim1 | MLM |\n",
       "| chr7 | 6490000 | 6510000 | chr7 | 6810000 | 6830000 | Neg.corr. | Not Significant | -0.129531788 | 0.245839070 | 0.41246802 | Zim1 | MLM |\n",
       "| chr7 | 6490000 | 6510000 | chr7 | 6830000 | 6850000 | Neg.corr. | Not Significant | -0.070783427 | 0.550046612 | 0.70351981 | Zim1 | MLM |\n",
       "| chr7 | 6510000 | 6530000 | chr7 | 6790000 | 6810000 | Neg.corr. | Not Significant | -0.133001185 | 0.216746189 | 0.37874685 | Zim1 | MLM |\n",
       "| chr7 | 6510000 | 6530000 | chr7 | 6810000 | 6830000 | Neg.corr. | Not Significant | -0.118931469 | 0.197045500 | 0.35517670 | Zim1 | MLM |\n",
       "| chr7 | 6510000 | 6530000 | chr7 | 6830000 | 6850000 | Neg.corr. | Not Significant | -0.050810233 | 0.553375564 | 0.70594611 | Zim1 | MLM |\n",
       "| chr7 | 6510000 | 6530000 | chr7 | 6850000 | 6870000 | Neg.corr. | Not Significant | -0.021830045 | 0.916696548 | 0.95527688 | Zim1 | MLM |\n",
       "| chr7 | 6530000 | 6550000 | chr7 | 6790000 | 6810000 | Neg.corr. | Not Significant | -0.150132507 | 0.155749097 | 0.30099512 | Zim1 | MLM |\n",
       "| chr7 | 6530000 | 6550000 | chr7 | 6810000 | 6830000 | Neg.corr. | Not Significant | -0.102568617 | 0.266694156 | 0.43609643 | Zim1 | MLM |\n",
       "| chr7 | 6530000 | 6550000 | chr7 | 6830000 | 6850000 | Neg.corr. | Not Significant | -0.043776857 | 0.573554045 | 0.72194189 | Zim1 | MLM |\n",
       "| chr7 | 6710000 | 6730000 | chr7 | 6910000 | 6930000 | Pos.corr. | Not Significant |  0.132167247 | 0.097198332 | 0.21525827 | Zim1 | MLM |\n",
       "| chr7 | 6730000 | 6750000 | chr7 | 6810000 | 6830000 | Pos.corr. | Not Significant | -0.181276728 | 0.089425399 | 0.20285841 | Zim1 | MLM |\n",
       "| chr7 | 6730000 | 6750000 | chr7 | 6850000 | 6870000 | Pos.corr. | Not Significant |  0.038753340 | 0.653960001 | 0.78299744 | Zim1 | MLM |\n",
       "| chr7 | 6730000 | 6750000 | chr7 | 6870000 | 6890000 | Pos.corr. | Not Significant |  0.072694023 | 0.422610154 | 0.59309674 | Zim1 | MLM |\n",
       "| chr7 | 6730000 | 6750000 | chr7 | 7030000 | 7050000 | Pos.corr. | Not Significant | -0.151371382 | 0.173910509 | 0.32527303 | Zim1 | MLM |\n",
       "| chr7 | 6750000 | 6770000 | chr7 | 6810000 | 6830000 | Pos.corr. | Not Significant | -0.090870762 | 0.367313938 | 0.54096069 | Zim1 | MLM |\n",
       "| chr7 | 6750000 | 6770000 | chr7 | 7030000 | 7050000 | Pos.corr. | Not Significant | -0.137356362 | 0.328951759 | 0.50214546 | Zim1 | MLM |\n",
       "| chr7 | 6790000 | 6810000 | chr7 | 6870000 | 6890000 | Pos.corr. | Not Significant |  0.081816878 | 0.458007304 | 0.62560292 | Zim1 | MLM |\n",
       "| chr7 | 6810000 | 6830000 | chr7 | 6890000 | 6910000 | Pos.corr. | Not Significant |  0.005373316 | 0.988078247 | 0.99385031 | Zim1 | MLM |\n",
       "| chr7 | 6830000 | 6850000 | chr7 | 6890000 | 6910000 | Pos.corr. | Not Significant |  0.020153275 | 0.705031581 | 0.82038740 | Zim1 | MLM |\n",
       "| chr7 | 7170000 | 7190000 | chr7 | 7290000 | 7310000 | Pos.corr. | Not Significant | -0.255890048 | 0.038266096 | 0.10880893 | Zim1 | MLM |\n",
       "| chr7 | 7170000 | 7190000 | chr7 | 7310000 | 7330000 | Pos.corr. | Succeeding      | -0.319026054 | 0.004317646 | 0.02116102 | Zim1 | MLM |\n",
       "| chr7 | 7170000 | 7190000 | chr7 | 7330000 | 7350000 | Pos.corr. | Succeeding      | -0.285189073 | 0.007047592 | 0.03079344 | Zim1 | MLM |\n",
       "\n"
      ],
      "text/plain": [
       "       chrom1 start1   end1     chrom2 start2   end2     gaditype \n",
       "1      chr13  27290000 27310000 chr13  27990000 28010000 Pos.corr.\n",
       "2      chr13  27310000 27330000 chr13  28010000 28030000 Pos.corr.\n",
       "3      chr13  28250000 28270000 chr13  29030000 29050000 Neg.corr.\n",
       "4      chr13  28250000 28270000 chr13  29050000 29070000 Neg.corr.\n",
       "5      chr13  28250000 28270000 chr13  29070000 29090000 Neg.corr.\n",
       "6      chr13  28250000 28270000 chr13  29090000 29110000 Neg.corr.\n",
       "7      chr13  28270000 28290000 chr13  28490000 28510000 Neg.corr.\n",
       "8      chr13  28270000 28290000 chr13  29030000 29050000 Neg.corr.\n",
       "9      chr13  28270000 28290000 chr13  29050000 29070000 Neg.corr.\n",
       "10     chr13  28270000 28290000 chr13  29070000 29090000 Neg.corr.\n",
       "11     chr13  28270000 28290000 chr13  29170000 29190000 Neg.corr.\n",
       "12     chr13  28290000 28310000 chr13  29030000 29050000 Neg.corr.\n",
       "13     chr13  28290000 28310000 chr13  29050000 29070000 Neg.corr.\n",
       "14     chr13  28310000 28330000 chr13  28710000 28730000 Neg.corr.\n",
       "15     chr13  28310000 28330000 chr13  28730000 28750000 Neg.corr.\n",
       "16     chr13  28310000 28330000 chr13  28750000 28770000 Neg.corr.\n",
       "17     chr13  28310000 28330000 chr13  28770000 28790000 Neg.corr.\n",
       "18     chr13  28310000 28330000 chr13  28790000 28810000 Neg.corr.\n",
       "19     chr13  28310000 28330000 chr13  28810000 28830000 Neg.corr.\n",
       "20     chr13  28310000 28330000 chr13  28990000 29010000 Neg.corr.\n",
       "21     chr13  28310000 28330000 chr13  29010000 29030000 Neg.corr.\n",
       "22     chr13  28330000 28350000 chr13  28510000 28530000 Neg.corr.\n",
       "23     chr13  28330000 28350000 chr13  28530000 28550000 Neg.corr.\n",
       "24     chr13  28330000 28350000 chr13  28550000 28570000 Neg.corr.\n",
       "25     chr13  28330000 28350000 chr13  28570000 28590000 Neg.corr.\n",
       "26     chr13  28330000 28350000 chr13  28590000 28610000 Neg.corr.\n",
       "27     chr13  28330000 28350000 chr13  28610000 28630000 Neg.corr.\n",
       "28     chr13  28330000 28350000 chr13  28650000 28670000 Neg.corr.\n",
       "29     chr13  28330000 28350000 chr13  28670000 28690000 Neg.corr.\n",
       "30     chr13  28330000 28350000 chr13  28690000 28710000 Neg.corr.\n",
       "⋮      ⋮      ⋮        ⋮        ⋮      ⋮        ⋮        ⋮        \n",
       "194808 chr7   6470000  6490000  chr7   6850000  6870000  Neg.corr.\n",
       "194809 chr7   6470000  6490000  chr7   7210000  7230000  Pos.corr.\n",
       "194810 chr7   6470000  6490000  chr7   7250000  7270000  Pos.corr.\n",
       "194811 chr7   6470000  6490000  chr7   7270000  7290000  Pos.corr.\n",
       "194812 chr7   6470000  6490000  chr7   7290000  7310000  Pos.corr.\n",
       "194813 chr7   6490000  6510000  chr7   6750000  6770000  Neg.corr.\n",
       "194814 chr7   6490000  6510000  chr7   6770000  6790000  Neg.corr.\n",
       "194815 chr7   6490000  6510000  chr7   6790000  6810000  Neg.corr.\n",
       "194816 chr7   6490000  6510000  chr7   6810000  6830000  Neg.corr.\n",
       "194817 chr7   6490000  6510000  chr7   6830000  6850000  Neg.corr.\n",
       "194818 chr7   6510000  6530000  chr7   6790000  6810000  Neg.corr.\n",
       "194819 chr7   6510000  6530000  chr7   6810000  6830000  Neg.corr.\n",
       "194820 chr7   6510000  6530000  chr7   6830000  6850000  Neg.corr.\n",
       "194821 chr7   6510000  6530000  chr7   6850000  6870000  Neg.corr.\n",
       "194822 chr7   6530000  6550000  chr7   6790000  6810000  Neg.corr.\n",
       "194823 chr7   6530000  6550000  chr7   6810000  6830000  Neg.corr.\n",
       "194824 chr7   6530000  6550000  chr7   6830000  6850000  Neg.corr.\n",
       "194825 chr7   6710000  6730000  chr7   6910000  6930000  Pos.corr.\n",
       "194826 chr7   6730000  6750000  chr7   6810000  6830000  Pos.corr.\n",
       "194827 chr7   6730000  6750000  chr7   6850000  6870000  Pos.corr.\n",
       "194828 chr7   6730000  6750000  chr7   6870000  6890000  Pos.corr.\n",
       "194829 chr7   6730000  6750000  chr7   7030000  7050000  Pos.corr.\n",
       "194830 chr7   6750000  6770000  chr7   6810000  6830000  Pos.corr.\n",
       "194831 chr7   6750000  6770000  chr7   7030000  7050000  Pos.corr.\n",
       "194832 chr7   6790000  6810000  chr7   6870000  6890000  Pos.corr.\n",
       "194833 chr7   6810000  6830000  chr7   6890000  6910000  Pos.corr.\n",
       "194834 chr7   6830000  6850000  chr7   6890000  6910000  Pos.corr.\n",
       "194835 chr7   7170000  7190000  chr7   7290000  7310000  Pos.corr.\n",
       "194836 chr7   7170000  7190000  chr7   7310000  7330000  Pos.corr.\n",
       "194837 chr7   7170000  7190000  chr7   7330000  7350000  Pos.corr.\n",
       "       test_type       residual     pv           fdr         gene         \n",
       "1      Not Significant -0.08208606  0.2679699940 0.479582821 2610307P16Rik\n",
       "2      Not Significant -0.06436583  0.3583830232 0.574035670 2610307P16Rik\n",
       "3      Not Significant -0.07582363  0.3093410898 0.524001911 2610307P16Rik\n",
       "4      Not Significant -0.04429305  0.4616317043 0.666754598 2610307P16Rik\n",
       "5      Not Significant -0.05577561  0.3438962388 0.559261723 2610307P16Rik\n",
       "6      Not Significant -0.02392935  0.5189150515 0.713461789 2610307P16Rik\n",
       "7      Not Significant -0.04490550  0.3884883498 0.603256967 2610307P16Rik\n",
       "8      Not Significant -0.05497231  0.4241383152 0.635760508 2610307P16Rik\n",
       "9      Not Significant -0.04375049  0.3808212392 0.596023843 2610307P16Rik\n",
       "10     Not Significant -0.06075193  0.1946144920 0.389988910 2610307P16Rik\n",
       "11     Not Significant -0.04049781  0.3583830232 0.574035670 2610307P16Rik\n",
       "12     Not Significant -0.07379815  0.2069512488 0.405867999 2610307P16Rik\n",
       "13     Not Significant -0.05722043  0.2198459731 0.422685682 2610307P16Rik\n",
       "14     Succeeding      -0.31703923  0.0003137293 0.005076435 2610307P16Rik\n",
       "15     Succeeding      -0.30467806  0.0004678384 0.006541192 2610307P16Rik\n",
       "16     Succeeding      -0.27402190  0.0007453612 0.008840777 2610307P16Rik\n",
       "17     Succeeding      -0.26747822  0.0009835013 0.010543834 2610307P16Rik\n",
       "18     Succeeding      -0.25197350  0.0017663681 0.015497028 2610307P16Rik\n",
       "19     Succeeding      -0.26782827  0.0014931266 0.013876137 2610307P16Rik\n",
       "20     Not Significant -0.10114636  0.1229676594 0.287618732 2610307P16Rik\n",
       "21     Not Significant -0.05918078  0.2740745522 0.486526635 2610307P16Rik\n",
       "22     Not Significant -0.07730143  0.4531433994 0.659631545 2610307P16Rik\n",
       "23     Not Significant -0.12634742  0.2333073500 0.439419186 2610307P16Rik\n",
       "24     Not Significant -0.18013937  0.0631783349 0.183337946 2610307P16Rik\n",
       "25     Not Significant -0.19850886  0.0178004678 0.075910002 2610307P16Rik\n",
       "26     Succeeding      -0.22389298  0.0025718146 0.019975186 2610307P16Rik\n",
       "27     Succeeding      -0.28189087  0.0006229879 0.007836980 2610307P16Rik\n",
       "28     Succeeding      -0.33405869  0.0002456132 0.004373871 2610307P16Rik\n",
       "29     Succeeding      -0.33105032  0.0003053686 0.004994839 2610307P16Rik\n",
       "30     Succeeding      -0.32971652  0.0002594275 0.004505290 2610307P16Rik\n",
       "⋮      ⋮               ⋮            ⋮            ⋮           ⋮            \n",
       "194808 Not Significant -0.011267819 0.749902332  0.85151551  Zim1         \n",
       "194809 Not Significant  0.067872446 0.048566480  0.12969634  Zim1         \n",
       "194810 Prior            0.111711440 0.008796181  0.03632435  Zim1         \n",
       "194811 Prior            0.140025185 0.006942961  0.03045212  Zim1         \n",
       "194812 Not Significant  0.092927498 0.041637246  0.11578642  Zim1         \n",
       "194813 Not Significant -0.146626770 0.369966871  0.54350455  Zim1         \n",
       "194814 Not Significant -0.107686377 0.594074768  0.73809140  Zim1         \n",
       "194815 Not Significant -0.134705152 0.333911118  0.50732996  Zim1         \n",
       "194816 Not Significant -0.129531788 0.245839070  0.41246802  Zim1         \n",
       "194817 Not Significant -0.070783427 0.550046612  0.70351981  Zim1         \n",
       "194818 Not Significant -0.133001185 0.216746189  0.37874685  Zim1         \n",
       "194819 Not Significant -0.118931469 0.197045500  0.35517670  Zim1         \n",
       "194820 Not Significant -0.050810233 0.553375564  0.70594611  Zim1         \n",
       "194821 Not Significant -0.021830045 0.916696548  0.95527688  Zim1         \n",
       "194822 Not Significant -0.150132507 0.155749097  0.30099512  Zim1         \n",
       "194823 Not Significant -0.102568617 0.266694156  0.43609643  Zim1         \n",
       "194824 Not Significant -0.043776857 0.573554045  0.72194189  Zim1         \n",
       "194825 Not Significant  0.132167247 0.097198332  0.21525827  Zim1         \n",
       "194826 Not Significant -0.181276728 0.089425399  0.20285841  Zim1         \n",
       "194827 Not Significant  0.038753340 0.653960001  0.78299744  Zim1         \n",
       "194828 Not Significant  0.072694023 0.422610154  0.59309674  Zim1         \n",
       "194829 Not Significant -0.151371382 0.173910509  0.32527303  Zim1         \n",
       "194830 Not Significant -0.090870762 0.367313938  0.54096069  Zim1         \n",
       "194831 Not Significant -0.137356362 0.328951759  0.50214546  Zim1         \n",
       "194832 Not Significant  0.081816878 0.458007304  0.62560292  Zim1         \n",
       "194833 Not Significant  0.005373316 0.988078247  0.99385031  Zim1         \n",
       "194834 Not Significant  0.020153275 0.705031581  0.82038740  Zim1         \n",
       "194835 Not Significant -0.255890048 0.038266096  0.10880893  Zim1         \n",
       "194836 Succeeding      -0.319026054 0.004317646  0.02116102  Zim1         \n",
       "194837 Succeeding      -0.285189073 0.007047592  0.03079344  Zim1         \n",
       "       lineage\n",
       "1      EN     \n",
       "2      EN     \n",
       "3      EN     \n",
       "4      EN     \n",
       "5      EN     \n",
       "6      EN     \n",
       "7      EN     \n",
       "8      EN     \n",
       "9      EN     \n",
       "10     EN     \n",
       "11     EN     \n",
       "12     EN     \n",
       "13     EN     \n",
       "14     EN     \n",
       "15     EN     \n",
       "16     EN     \n",
       "17     EN     \n",
       "18     EN     \n",
       "19     EN     \n",
       "20     EN     \n",
       "21     EN     \n",
       "22     EN     \n",
       "23     EN     \n",
       "24     EN     \n",
       "25     EN     \n",
       "26     EN     \n",
       "27     EN     \n",
       "28     EN     \n",
       "29     EN     \n",
       "30     EN     \n",
       "⋮      ⋮      \n",
       "194808 MLM    \n",
       "194809 MLM    \n",
       "194810 MLM    \n",
       "194811 MLM    \n",
       "194812 MLM    \n",
       "194813 MLM    \n",
       "194814 MLM    \n",
       "194815 MLM    \n",
       "194816 MLM    \n",
       "194817 MLM    \n",
       "194818 MLM    \n",
       "194819 MLM    \n",
       "194820 MLM    \n",
       "194821 MLM    \n",
       "194822 MLM    \n",
       "194823 MLM    \n",
       "194824 MLM    \n",
       "194825 MLM    \n",
       "194826 MLM    \n",
       "194827 MLM    \n",
       "194828 MLM    \n",
       "194829 MLM    \n",
       "194830 MLM    \n",
       "194831 MLM    \n",
       "194832 MLM    \n",
       "194833 MLM    \n",
       "194834 MLM    \n",
       "194835 MLM    \n",
       "194836 MLM    \n",
       "194837 MLM    "
      ]
     },
     "metadata": {},
     "output_type": "display_data"
    }
   ],
   "source": [
    "rbind(neural_testRes%>% mutate(lineage = \"EN\"),mesen_testRes%>% mutate(lineage = \"MLM\"))%>% \n",
    " mutate(gaditype = ifelse(gaditype == \"neg\",\"Pos.corr.\",\"Neg.corr.\"),\n",
    "       test_type = ifelse(test_type == \"early\",\"Prior\",ifelse(test_type==\"lag\",\"Succeeding\",\"Not Significant\")))"
   ]
  }
 ],
 "metadata": {
  "kernelspec": {
   "display_name": "R 4.1",
   "language": "R",
   "name": "ir41"
  },
  "language_info": {
   "codemirror_mode": "r",
   "file_extension": ".r",
   "mimetype": "text/x-r-source",
   "name": "R",
   "pygments_lexer": "r",
   "version": "4.1.1"
  }
 },
 "nbformat": 4,
 "nbformat_minor": 4
}
